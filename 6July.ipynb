{
 "metadata": {
  "language_info": {
   "codemirror_mode": {
    "name": "ipython",
    "version": 3
   },
   "file_extension": ".py",
   "mimetype": "text/x-python",
   "name": "python",
   "nbconvert_exporter": "python",
   "pygments_lexer": "ipython3",
   "version": "3.7.6-final"
  },
  "orig_nbformat": 2,
  "kernelspec": {
   "name": "python_defaultSpec_1595616831615",
   "display_name": "Python 3.7.6 64-bit ('base': conda)"
  }
 },
 "nbformat": 4,
 "nbformat_minor": 2,
 "cells": [
  {
   "cell_type": "code",
   "execution_count": 8,
   "metadata": {
    "tags": []
   },
   "outputs": [
    {
     "output_type": "stream",
     "name": "stdout",
     "text": "ali ali \nlara lara \nlinda linda linda linda \n"
    }
   ],
   "source": [
    "def repeater(n):\n",
    "    return lambda x : x * n\n",
    "repeater_2 = repeater(2)\n",
    "repeater_3 = repeater(3)\n",
    "repeater_4 = repeater(4)\n",
    "\n",
    "print(repeater_2(\"ali \"))\n",
    "print(repeater_2(\"lara \"))\n",
    "print(repeater_4(\"linda \"))"
   ]
  },
  {
   "cell_type": "code",
   "execution_count": 11,
   "metadata": {
    "tags": []
   },
   "outputs": [
    {
     "output_type": "stream",
     "name": "stdout",
     "text": "hello :)\nhello :(\nhello :|\n"
    }
   ],
   "source": [
    "def emoji(n):\n",
    "    return lambda x: x + n\n",
    "emoji_smile = emoji(\":)\")\n",
    "emoji_sad = emoji(\":(\")\n",
    "emoji_natural = emoji(\":|\")\n",
    "\n",
    "print(emoji_smile(\"hello \"))\n",
    "print(emoji_sad(\"hello \"))\n",
    "print(emoji_natural(\"hello \"))"
   ]
  },
  {
   "cell_type": "code",
   "execution_count": 13,
   "metadata": {
    "tags": []
   },
   "outputs": [
    {
     "output_type": "stream",
     "name": "stdout",
     "text": "1 2 3 4\n"
    }
   ],
   "source": [
    "def x():\n",
    "    return 1,2,3,4\n",
    "a,b,c,d = x()\n",
    "print(a,b,c,d)"
   ]
  },
  {
   "cell_type": "code",
   "execution_count": 14,
   "metadata": {
    "tags": []
   },
   "outputs": [
    {
     "output_type": "stream",
     "name": "stdout",
     "text": "hello world\n"
    }
   ],
   "source": [
    "\n",
    "def func_generator(function):              #fonksiyon uretici\n",
    "    return lambda x : function(x)\n",
    "my_print = func_generator(print)\n",
    "my_max = func_generator(max)\n",
    "my_bool = func_generator(bool)\n",
    "my_sorted = func_generator(sorted)\n"
   ]
  },
  {
   "cell_type": "code",
   "execution_count": 15,
   "metadata": {
    "tags": []
   },
   "outputs": [
    {
     "output_type": "stream",
     "name": "stdout",
     "text": "4\n"
    }
   ],
   "source": [
    "a=[1,2,4,5,1,2,4,5,7,2,4,8,4,4,4]\n",
    "print(max(a,key=a.count))"
   ]
  },
  {
   "cell_type": "code",
   "execution_count": 24,
   "metadata": {
    "tags": []
   },
   "outputs": [
    {
     "output_type": "stream",
     "name": "stdout",
     "text": "3.141592653589793\n24\n3.0\n"
    }
   ],
   "source": [
    "from math import pi,factorial,log10\n",
    "print(pi)\n",
    "print(factorial(4))\n",
    "print(log10(1000))\n"
   ]
  },
  {
   "cell_type": "code",
   "execution_count": 18,
   "metadata": {},
   "outputs": [
    {
     "output_type": "execute_result",
     "data": {
      "text/plain": "'c:\\\\Users\\\\Test\\\\Desktop\\\\visual studio'"
     },
     "metadata": {},
     "execution_count": 18
    }
   ],
   "source": [
    "pwd"
   ]
  },
  {
   "cell_type": "code",
   "execution_count": 19,
   "metadata": {
    "tags": []
   },
   "outputs": [
    {
     "output_type": "stream",
     "name": "stdout",
     "text": "0 1 1 2 3 5 8 13 21 34 55 89 144 233 377"
    }
   ],
   "source": [
    "import fibo\n",
    "fibo.fib(500)"
   ]
  },
  {
   "cell_type": "code",
   "execution_count": 28,
   "metadata": {
    "tags": []
   },
   "outputs": [
    {
     "output_type": "stream",
     "name": "stdout",
     "text": "['!', '\"', '#', '$', '%', '&', \"'\", '(', ')', '*', '+', ',', '-', '.', '/', ':', ';', '<', '=', '>', '?', '@', '[', '\\\\', ']', '^', '_', '`', '{', '|', '}', '~']\n['0', '1', '2', '3', '4', '5', '6', '7', '8', '9']\n"
    }
   ],
   "source": [
    "from string import punctuation,digits\n",
    "print(list(punctuation))\n",
    "print(list(digits))"
   ]
  },
  {
   "cell_type": "code",
   "execution_count": 34,
   "metadata": {
    "tags": []
   },
   "outputs": [
    {
     "output_type": "stream",
     "name": "stdout",
     "text": "2020-07-19\n2020-07-19 17:36:57.874574\n"
    }
   ],
   "source": [
    "from datetime import date,time,datetime\n",
    "print(date.today())\n",
    "print(datetime.now())"
   ]
  },
  {
   "cell_type": "code",
   "execution_count": 36,
   "metadata": {
    "tags": []
   },
   "outputs": [
    {
     "output_type": "stream",
     "name": "stdout",
     "text": "Istanbul\n"
    }
   ],
   "source": [
    "from random import choice\n",
    "city = [\"stockholm\", \"Istanbul\", \"seul\", \"cape town\"]\n",
    "print(choice(city))"
   ]
  },
  {
   "cell_type": "code",
   "execution_count": 73,
   "metadata": {
    "tags": []
   },
   "outputs": [
    {
     "output_type": "execute_result",
     "data": {
      "text/plain": "'not mine'"
     },
     "metadata": {},
     "execution_count": 73
    }
   ],
   "source": [
    "def not_string(word):\n",
    "    if word[0:3] == \"not\" :\n",
    "        return f\"{word}\"\n",
    "    else:\n",
    "        return f\"not {word}\"\n",
    "not_string(\"mine\")\n"
   ]
  },
  {
   "cell_type": "code",
   "execution_count": 2,
   "metadata": {
    "tags": []
   },
   "outputs": [
    {
     "output_type": "stream",
     "name": "stdout",
     "text": "[58, 53, 10, -10, -40, -28, 8, 34, 70, -16, 33]\n"
    }
   ],
   "source": [
    "x= (58, 53, 10, -10, -40, -28, 8, 34, 70, -16, 33)\n",
    "print(list(x))"
   ]
  },
  {
   "cell_type": "code",
   "execution_count": 5,
   "metadata": {
    "tags": []
   },
   "outputs": [
    {
     "output_type": "stream",
     "name": "stdout",
     "text": "13.0\n301.0\n331.0\n"
    }
   ],
   "source": [
    "def spec_opr(*numbers):\n",
    "    sum_list=[]\n",
    "    for i in list(numbers):\n",
    "        if i%2 == 0:\n",
    "            sum_list.append(i/2)\n",
    "        elif i%2 != 0:\n",
    "            sum_list.append(i*3)\n",
    "    print(sum(sum_list))\n",
    "spec_opr(3, 2, 6)\n",
    "spec_opr(58, 53, 10, -10, -40, -28, 8, 34, 70, -16, 33)\n",
    "spec_opr(93, 12, 5, 84, -22)"
   ]
  },
  {
   "cell_type": "code",
   "execution_count": 9,
   "metadata": {
    "tags": []
   },
   "outputs": [
    {
     "output_type": "stream",
     "name": "stdout",
     "text": "0 1 1 2 3 5 8 13 21 34 55 89 144 233 377"
    }
   ],
   "source": [
    "import fibo\n",
    "fibo.fib(500)"
   ]
  },
  {
   "cell_type": "code",
   "execution_count": 10,
   "metadata": {
    "tags": []
   },
   "outputs": [
    {
     "output_type": "stream",
     "name": "stdout",
     "text": "pip 20.0.2 from C:\\Users\\Test\\anaconda3\\lib\\site-packages\\pip (python 3.7)\n\nNote: you may need to restart the kernel to use updated packages.\n"
    }
   ],
   "source": [
    "pip --version"
   ]
  },
  {
   "cell_type": "code",
   "execution_count": 6,
   "metadata": {
    "tags": []
   },
   "outputs": [
    {
     "output_type": "stream",
     "name": "stdout",
     "text": "360\n"
    }
   ],
   "source": [
    "from math import factorial\n",
    "num1 = int(input(\"please give first number: \"))\n",
    "num2 = int(input(\"please give second number: \"))\n",
    "\n",
    "print(factorial(num1)// factorial(num1-num2))"
   ]
  },
  {
   "cell_type": "code",
   "execution_count": 18,
   "metadata": {
    "tags": []
   },
   "outputs": [
    {
     "output_type": "stream",
     "name": "stdout",
     "text": "1996 is a leapyear\n"
    }
   ],
   "source": [
    "leap_year = int(input(\"please write a year:  \"))\n",
    "if (leap_year%4 == 0 and leap_year%100 != 0) or leap_year%400 == 0:\n",
    "    print(f\"{leap_year} is a leapyear\")\n",
    "else:\n",
    "    print(f\"{leap_year} is not a leap year\")\n",
    "    "
   ]
  },
  {
   "cell_type": "code",
   "execution_count": 23,
   "metadata": {
    "tags": []
   },
   "outputs": [
    {
     "output_type": "stream",
     "name": "stdout",
     "text": "[22, 88, 2]\n"
    }
   ],
   "source": [
    "say = [22,33,55,88,2,3,9]\n",
    "cift = filter(lambda x:x%2 ==0 ,say)\n",
    "print(list(cift))"
   ]
  },
  {
   "cell_type": "code",
   "execution_count": 24,
   "metadata": {
    "tags": []
   },
   "outputs": [
    {
     "output_type": "stream",
     "name": "stdout",
     "text": "0 1 1 2 3 5 8 13 21 34 55 89"
    }
   ],
   "source": [
    "import fibo\n",
    "fibo.fib(100)"
   ]
  },
  {
   "cell_type": "code",
   "execution_count": 25,
   "metadata": {},
   "outputs": [
    {
     "output_type": "execute_result",
     "data": {
      "text/plain": "'c:\\\\Users\\\\Test\\\\Desktop\\\\visual studio'"
     },
     "metadata": {},
     "execution_count": 25
    }
   ],
   "source": [
    "pwd"
   ]
  },
  {
   "cell_type": "code",
   "execution_count": 76,
   "metadata": {
    "tags": []
   },
   "outputs": [],
   "source": [
    "from upper_package.my_package import armstrong, fibo"
   ]
  },
  {
   "cell_type": "code",
   "execution_count": 68,
   "metadata": {},
   "outputs": [
    {
     "output_type": "execute_result",
     "data": {
      "text/plain": "['__builtins__',\n '__cached__',\n '__doc__',\n '__file__',\n '__loader__',\n '__name__',\n '__package__',\n '__path__',\n '__spec__',\n 'armstrong',\n 'fibo']"
     },
     "metadata": {},
     "execution_count": 68
    }
   ],
   "source": [
    "dir(my_package)"
   ]
  },
  {
   "cell_type": "code",
   "execution_count": 80,
   "metadata": {
    "tags": []
   },
   "outputs": [
    {
     "output_type": "stream",
     "name": "stdout",
     "text": "0 1 1 2 3 5 8 13 21 34 55 89 144 233 377"
    }
   ],
   "source": [
    "fibo.fib(500)"
   ]
  },
  {
   "cell_type": "code",
   "execution_count": 79,
   "metadata": {
    "tags": []
   },
   "outputs": [
    {
     "output_type": "stream",
     "name": "stdout",
     "text": "this is not\n"
    }
   ],
   "source": [
    "arm(400)"
   ]
  },
  {
   "cell_type": "code",
   "execution_count": 65,
   "metadata": {
    "tags": []
   },
   "outputs": [
    {
     "output_type": "stream",
     "name": "stdout",
     "text": "Armstrong Number\n"
    }
   ],
   "source": [
    "def arm(i):\n",
    "    n = len(str(i))\n",
    "    toplam = 0\n",
    "    for k in str(i):\n",
    "        x = int(k)**n\n",
    "        toplam += x\n",
    "    if toplam == int(i):\n",
    "     print(\"Armstrong Number\")\n",
    "    else:\n",
    "        print(\"this is not\")\n",
    "arm(5)"
   ]
  },
  {
   "cell_type": "code",
   "execution_count": 71,
   "metadata": {
    "tags": []
   },
   "outputs": [
    {
     "output_type": "stream",
     "name": "stdout",
     "text": "pip 20.0.2 from C:\\Users\\Test\\anaconda3\\lib\\site-packages\\pip (python 3.7)\n\nNote: you may need to restart the kernel to use updated packages.\n"
    }
   ],
   "source": [
    "pip --version"
   ]
  },
  {
   "cell_type": "code",
   "execution_count": 5,
   "metadata": {
    "tags": []
   },
   "outputs": [
    {
     "output_type": "stream",
     "name": "stdout",
     "text": "Orca is a kind of Dolphin.\nBlue Whale is the largest animal known on earth.\nSharks are the sister group to the Rays (batoids).\nThe Tuna Fish can weigh up to 260 kg.\nSquid and Octopus are in the same class.\n"
    }
   ],
   "source": [
    "file = open(\"fishes.txt\", 'r', encoding=\"utf-8\")\n",
    "print(file.read())\n",
    "file.close()"
   ]
  },
  {
   "cell_type": "code",
   "execution_count": 7,
   "metadata": {
    "tags": []
   },
   "outputs": [
    {
     "output_type": "stream",
     "name": "stdout",
     "text": "Orca is a kind of Dolphin.\nBlue W\n"
    }
   ],
   "source": [
    "file = open(file = \"fishes.txt\", mode = 'r', encoding = \"utf-8\")\n",
    "print(file.read(33))\n",
    "file.close()"
   ]
  },
  {
   "cell_type": "code",
   "execution_count": 23,
   "metadata": {
    "tags": []
   },
   "outputs": [
    {
     "output_type": "stream",
     "name": "stdout",
     "text": "I want to sing\nLike the birds sing,\n\nNot worrying\n50\nLike the birds sing,\n"
    }
   ],
   "source": [
    "sea = open(\"rumi.txt\", 'r')\n",
    "print(sea.read(35))\n",
    "print(sea.read(13))\n",
    "print(sea.tell())\n",
    "sea.seek(16)\n",
    "print(sea.read(20))\n",
    "sea.close()"
   ]
  },
  {
   "cell_type": "code",
   "execution_count": null,
   "metadata": {},
   "outputs": [],
   "source": [
    "scores = {\"Mary\" : 85, \"Susan\": 75, \"Barry\" : 65, \"Alexis\" : 88, \"Jane\" : 45, \"Tina\" : 100, \"Tom\" : 90, \"Tim\": 60}\n",
    "average = sum(scores.values()) / len(scores)\n",
    "print(average)"
   ]
  },
  {
   "cell_type": "code",
   "execution_count": 1,
   "metadata": {
    "tags": []
   },
   "outputs": [
    {
     "output_type": "stream",
     "name": "stdout",
     "text": "70.2\n65.4\n[65.4, 65.6, 68.8, 70.2, 66.0]\n"
    }
   ],
   "source": [
    "my_dict = {'Student-1': {'Lesson-1': 57, 'Lesson-2': 46, 'Lesson-3': 58, 'Lesson-4': 81, 'Lesson-5': 85}, 'Student-2': {'Lesson-1': 85, 'Lesson-2': 56, 'Lesson-3': 51, 'Lesson-4': 69, 'Lesson-5': 67}, 'Student-3': {'Lesson-1': 68, 'Lesson-2': 76, 'Lesson-3': 87, 'Lesson-4': 57, 'Lesson-5': 56}, 'Student-4': {'Lesson-1': 78, 'Lesson-2': 93, 'Lesson-3': 88, 'Lesson-4': 38, 'Lesson-5': 54}, 'Student-5': {'Lesson-1': 50, 'Lesson-2': 46, 'Lesson-3': 78, 'Lesson-4': 81, 'Lesson-5': 75}}\n",
    "\n",
    "#dct_sum = {k: sum(v.values()) for k, v in my_dict.items()}\n",
    "#print(dct_sum.values())\n",
    "\n",
    "list = []\n",
    "for k,v in my_dict.items():\n",
    "    sum=0\n",
    "    #print(k,v)\n",
    "    for i,j in v.items():\n",
    "        #print(i,j)\n",
    "        sum += j \n",
    "    avg = sum/len(v)\n",
    "    list.append(avg)\n",
    "print(max(list))\n",
    "print(min(list))\n",
    "print(list)\n",
    "\n"
   ]
  },
  {
   "cell_type": "code",
   "execution_count": 1,
   "metadata": {
    "tags": []
   },
   "outputs": [
    {
     "output_type": "stream",
     "name": "stdout",
     "text": "{'m': 1, 'e': 2, 'r': 3, 'h': 1, 'a': 4, 'b': 1, 'l': 2, ' ': 2, 'n': 1, 's': 1, 'i': 2, 'g': 1, 'd': 1, '!': 1}\n"
    }
   ],
   "source": [
    "word = input(\"write a sentence:  \")     #assignment Letters count\n",
    "word_dict = {}\n",
    "for i in word:\n",
    "   word_dict.update({i:word.count(i)})\n",
    "print(word_dict)\n"
   ]
  },
  {
   "cell_type": "code",
   "execution_count": 2,
   "metadata": {},
   "outputs": [
    {
     "output_type": "execute_result",
     "data": {
      "text/plain": "{'l': 2,\n 'o': 1,\n 'b': 1,\n ';': 1,\n 'e': 1,\n 'c': 2,\n 'n': 1,\n 'k': 1,\n 's': 1,\n 'j': 1}"
     },
     "metadata": {},
     "execution_count": 2
    }
   ],
   "source": [
    "sentence = input(\"write a sentence:  \")\n",
    "{i: sentence.count(i) for i in set(sentence)}   #incele"
   ]
  },
  {
   "cell_type": "code",
   "execution_count": 8,
   "metadata": {
    "tags": []
   },
   "outputs": [
    {
     "output_type": "stream",
     "name": "stdout",
     "text": "['R', 'R', 'R', 'G', 'G', 'B', 'B']\n"
    }
   ],
   "source": [
    "array = ['G','B','R','R','B','R','G']      #google asked question     \n",
    "new_array = sorted(array,reverse=True)\n",
    "print(new_array)"
   ]
  },
  {
   "cell_type": "code",
   "execution_count": 11,
   "metadata": {
    "tags": []
   },
   "outputs": [
    {
     "output_type": "stream",
     "name": "stdout",
     "text": "['B', 'B', 'G', 'G', 'R', 'R', 'R']\n"
    }
   ],
   "source": [
    "list1 = ['G','B','R','R','B','R','G'] \n",
    "#list1.sort(reverse=True)\n",
    "list1.sort()\n",
    "print(list1)"
   ]
  },
  {
   "cell_type": "code",
   "execution_count": 17,
   "metadata": {
    "tags": []
   },
   "outputs": [
    {
     "output_type": "stream",
     "name": "stdout",
     "text": "Orca is a kin\nd of Dolphin.\n\n\nBlue Whale is\n"
    }
   ],
   "source": [
    "sea = open(\"fishes.txt\", 'r')\n",
    "\n",
    "print(sea.readline(13))\n",
    "print(sea.readline(13))\n",
    "print(sea.readline(13))\n",
    "print(sea.readline(13))"
   ]
  },
  {
   "cell_type": "code",
   "execution_count": 23,
   "metadata": {
    "tags": []
   },
   "outputs": [
    {
     "output_type": "stream",
     "name": "stdout",
     "text": "I want to sing\n\nLike the birds sing,\n\nNot worrying about\n"
    }
   ],
   "source": [
    "rumi = open(\"rumi.txt\",'r')\n",
    "print(rumi.readline())\n",
    "print(rumi.readline())\n",
    "print(rumi.readline(18))\n",
    "\n",
    "rumi.close()"
   ]
  },
  {
   "cell_type": "code",
   "execution_count": 25,
   "metadata": {
    "tags": []
   },
   "outputs": [
    {
     "output_type": "stream",
     "name": "stdout",
     "text": "Orca is a kind of Dolphin.\n\n['Blue Whale is the largest animal known on earth.\\n', 'Sharks are the sister group to the Rays (batoids).\\n', 'The Tuna Fish can weigh up to 260 kg.\\n', 'Squid and Octopus are in the same class.']\n"
    }
   ],
   "source": [
    "sea = open(\"fishes.txt\", 'r')\n",
    "\n",
    "print(sea.readline())\n",
    "print(sea.readlines())"
   ]
  },
  {
   "cell_type": "code",
   "execution_count": 29,
   "metadata": {
    "tags": []
   },
   "outputs": [
    {
     "output_type": "stream",
     "name": "stdout",
     "text": "Orca is a kind of Dolphin.\nBlue Whale is the largest animal known on earth.\nSharks are the sister group to the Rays (batoids).\nThe Tuna Fish can weigh up to 260 kg.\nSquid and Octopus are in the same class\n"
    }
   ],
   "source": [
    "sea = open(\"fishes.txt\", 'r')\n",
    "for i in sea:\n",
    "    print(i[:-1])\n",
    "sea.close()"
   ]
  },
  {
   "cell_type": "code",
   "execution_count": 30,
   "metadata": {},
   "outputs": [],
   "source": [
    "with open(\"dummy.txt\",'w', encoding=\"utf-8\") as file:\n",
    "    file.write(\"Bu benim ilk satirim\")"
   ]
  },
  {
   "cell_type": "code",
   "execution_count": 33,
   "metadata": {
    "tags": []
   },
   "outputs": [
    {
     "output_type": "stream",
     "name": "stdout",
     "text": "Bu benim ilk satirim\n"
    }
   ],
   "source": [
    "with open(\"dummy.txt\",'r', encoding=\"utf-8\") as file:\n",
    "    print(file.read())\n"
   ]
  },
  {
   "cell_type": "code",
   "execution_count": 34,
   "metadata": {},
   "outputs": [],
   "source": [
    "with open(\"dummy.txt\",'w', encoding=\"utf-8\") as file:\n",
    "    file.write(\"Bu benim ilk satirim\\nikinci satirim\")"
   ]
  },
  {
   "cell_type": "code",
   "execution_count": 35,
   "metadata": {
    "tags": []
   },
   "outputs": [
    {
     "output_type": "stream",
     "name": "stdout",
     "text": "melon\n\n"
    }
   ],
   "source": [
    "fruits = [\"banana\\n\", \"orange\\n\", \"apple\\n\", \"strawberry\\n\", \"cherry\\n\"]\n",
    "with open(\"fruits.txt\", \"a\", encoding = \"utf-8\") as file:\n",
    "    file.write(\"melon\\n\")\n",
    "with open(\"fruits.txt\", \"r\", encoding = \"utf-8\") as file:\n",
    "    print(file.read())"
   ]
  },
  {
   "cell_type": "code",
   "execution_count": 36,
   "metadata": {
    "tags": []
   },
   "outputs": [
    {
     "output_type": "stream",
     "name": "stdout",
     "text": "banana\norange\napple\nstrawberry\ncherry\n\n"
    }
   ],
   "source": [
    "fruits = [\"banana\", \"orange\", \"apple\", \"strawberry\", \"cherry\"]\n",
    "fruits = [i+\"\\n\" for i in fruits]\n",
    "with open(\"fruits.txt\", \"w\", encoding = \"utf-8\") as d:\n",
    "    d.writelines(fruits)\n",
    "with open(\"fruits.txt\", encoding = \"utf-8\") as d:\n",
    "    print(d.read())"
   ]
  },
  {
   "cell_type": "code",
   "execution_count": 38,
   "metadata": {
    "tags": []
   },
   "outputs": [
    {
     "output_type": "stream",
     "name": "stdout",
     "text": "banana\norange\napple\nstrawberry\ncherry\nmelon\nmelon\n"
    }
   ],
   "source": [
    "fruits = [\"banana\\n\", \"orange\\n\", \"apple\\n\", \"strawberry\\n\", \"cherry\\n\"]\n",
    "with open(\"fruits.txt\", \"a\", encoding = \"utf-8\") as file:\n",
    "    file.write(\"melon\")\n",
    "with open(\"fruits.txt\", \"r\", encoding = \"utf-8\") as file:\n",
    "    print(file.read())"
   ]
  },
  {
   "cell_type": "code",
   "execution_count": 39,
   "metadata": {
    "tags": []
   },
   "outputs": [
    {
     "output_type": "stream",
     "name": "stdout",
     "text": "['banana\\n', 'orange\\n', 'apple\\n', 'strawberry\\n', 'cherry\\n', 'melon\\n', 'melon\\n']\n"
    }
   ],
   "source": [
    "with open(\"fruits.txt\", \"r\", encoding = \"utf-8\") as file:\n",
    "    print(file.readlines())"
   ]
  },
  {
   "cell_type": "code",
   "execution_count": 40,
   "metadata": {
    "tags": []
   },
   "outputs": [
    {
     "output_type": "stream",
     "name": "stdout",
     "text": "Korkma, sönmez bu şafaklarda yüzen al sancak;\nSönmeden yurdumun üstünde tüten en son ocak.\nO benim milletimin yıldızıdır, parlayacak;\nO benimdir, o benim milletimindir ancak.\nÇatma, kurban olayım, çehreni ey nazlı hilal!\nKahraman ırkıma bir gül! Ne bu şiddet, bu celal?\nSana olmaz dökülen kanlarımız sonra helal...\nHakkıdır, hakk'a tapan, milletimin istiklal!\nBen ezelden beridir hür yaşadım, hür yaşarım.\nHangi çılgın bana zincir vuracakmış? Şaşarım!\nKükremiş sel gibiyim, bendimi çiğner, aşarım.\nYırtarım dağları, enginlere sığmam, taşarım.\nGarbın afakını sarmışsa çelik zırhlı duvar,\nBenim iman dolu göğsüm gibi serhaddim var.\nUlusun, korkma! Nasıl böyle bir imanı boğar,\n'Medeniyet!' dediğin tek dişi kalmış canavar?\nArkadaş! Yurduma alçakları uğratma, sakın.\nSiper et gövdeni, dursun bu hayasızca akın.\nDoğacaktır sana va'dettigi günler hakk'ın...\nKim bilir, belki yarın, belki yarından da yakın.\nBastığın yerleri 'toprak!' diyerek geçme, tanı:\nDüşün altında binlerce kefensiz yatanı.\nSen şehit oğlusun, incitme, yazıktır, atanı:\nVerme, dünyaları alsan da, bu cennet vatanı.\nKim bu cennet vatanın uğruna olmaz ki feda?\nŞuheda fışkıracak toprağı sıksan, şuheda!\nCanı, cananı, bütün varımı alsın da hüda,\nEtmesin tek vatanımdan beni dünyada cüda.\nRuhumun senden, ilahi, şudur ancak emeli:\nDeğmesin mabedimin göğsüne namahrem eli.\nBu ezanlar-ki şahadetleri dinin temeli,\nEbedi yurdumun üstünde benim inlemeli.\n\n\n"
    }
   ],
   "source": [
    "with open(\"istiklal.txt\", \"r\", encoding=\"utf-8\") as file:\n",
    "    print(file.read())"
   ]
  },
  {
   "cell_type": "code",
   "execution_count": 41,
   "metadata": {
    "tags": []
   },
   "outputs": [
    {
     "output_type": "stream",
     "name": "stdout",
     "text": "Korkma, sönmez bu şafaklarda yüzen al sancak;\nSönmeden yurdumun üstünde tüten en son ocak.\nO benim milletimin yıldızıdır, parlayacak;\nO benimdir, o benim milletimindir ancak.\n\nÇatma, kurban olayım, çehreni ey nazlı hilal!\nKahraman ırkıma bir gül! Ne bu şiddet, bu celal?\nSana olmaz dökülen kanlarımız sonra helal...\nHakkıdır, hakk'a tapan, milletimin istiklal!\n\nBen ezelden beridir hür yaşadım, hür yaşarım.\nHangi çılgın bana zincir vuracakmış? Şaşarım!\nKükremiş sel gibiyim, bendimi çiğner, aşarım.\nYırtarım dağları, enginlere sığmam, taşarım.\n\nGarbın afakını sarmışsa çelik zırhlı duvar,\nBenim iman dolu göğsüm gibi serhaddim var.\nUlusun, korkma! Nasıl böyle bir imanı boğar,\n'Medeniyet!' dediğin tek dişi kalmış canavar?\n\nArkadaş! Yurduma alçakları uğratma, sakın.\nSiper et gövdeni, dursun bu hayasızca akın.\nDoğacaktır sana va'dettigi günler hakk'ın...\nKim bilir, belki yarın, belki yarından da yakın.\n\nBastığın yerleri 'toprak!' diyerek geçme, tanı:\nDüşün altında binlerce kefensiz yatanı.\nSen şehit oğlusun, incitme, yazıktır, atanı:\nVerme, dünyaları alsan da, bu cennet vatanı.\n\nKim bu cennet vatanın uğruna olmaz ki feda?\nŞuheda fışkıracak toprağı sıksan, şuheda!\nCanı, cananı, bütün varımı alsın da hüda,\nEtmesin tek vatanımdan beni dünyada cüda.\n\nRuhumun senden, ilahi, şudur ancak emeli:\nDeğmesin mabedimin göğsüne namahrem eli.\nBu ezanlar-ki şahadetleri dinin temeli,\nEbedi yurdumun üstünde benim inlemeli.\n\n\n\n"
    }
   ],
   "source": [
    "with open(\"istiklal.txt\", \"r\", encoding=\"utf-8\") as file:\n",
    "    ist= file.readlines()\n",
    "counter = 0\n",
    "with open(\"istiklal.txt\", \"w\", encoding=\"utf-8\") as file:\n",
    "    for i in ist:\n",
    "        counter += 1\n",
    "        if counter%4 == 0:\n",
    "            file.write(i + \"\\n\")\n",
    "        else:\n",
    "            file.write(i)\n",
    "with open(\"istiklal.txt\", \"r\", encoding=\"utf-8\") as file:\n",
    "    print(file.read())\n"
   ]
  },
  {
   "cell_type": "code",
   "execution_count": 47,
   "metadata": {
    "tags": []
   },
   "outputs": [
    {
     "output_type": "stream",
     "name": "stdout",
     "text": "Korkma, sönmez bu şafaklarda yüzen al sancak;\nSönmeden yurdumun üstünde tüten en son ocak.\nO benim milletimin yıldızıdır, parlayacak;\nO benimdir, o benim milletimindir ancak.\n\nÇatma, kurban olayım, çehreni ey nazlı hilal!\nKahraman ırkıma bir gül! Ne bu şiddet, bu celal?\nSana olmaz dökülen kanlarımız sonra helal...\nHakkıdır, hakk'a tapan, milletimin istiklal!\n\nBen ezelden beridir hür yaşadım, hür yaşarım.\nHangi çılgın bana zincir vuracakmış? Şaşarım!\nKükremiş sel gibiyim, bendimi çiğner, aşarım.\nYırtarım dağları, enginlere sığmam, taşarım.\n\nGarbın afakını sarmışsa çelik zırhlı duvar,\nBenim iman dolu göğsüm gibi serhaddim var.\nUlusun, korkma! Nasıl böyle bir imanı boğar,\n'Medeniyet!' dediğin tek dişi kalmış canavar?\n\nArkadaş! Yurduma alçakları uğratma, sakın.\nSiper et gövdeni, dursun bu hayasızca akın.\nDoğacaktır sana va'dettigi günler hakk'ın...\nKim bilir, belki yarın, belki yarından da yakın.\n\nBastığın yerleri 'toprak!' diyerek geçme, tanı:\nDüşün altında binlerce kefensiz yatanı.\nSen şehit oğlusun, incitme, yazıktır, atanı:\nVerme, dünyaları alsan da, bu cennet vatanı.\n\nKim bu cennet vatanın uğruna olmaz ki feda?\nŞuheda fışkıracak toprağı sıksan, şuheda!\nCanı, cananı, bütün varımı alsın da hüda,\nEtmesin tek vatanımdan beni dünyada cüda.\n\nRuhumun senden, ilahi, şudur ancak emeli:\nDeğmesin mabedimin göğsüne namahrem eli.\nBu ezanlar-ki şahadetleri dinin temeli,\nEbedi yurdumun üstünde benim inlemeli.\n\n\nKorkma, sönmez bu şafaklarda yüzen al sancak;\nSönmeden yurdumun üstünde tüten en son ocak.\nO benim milletimin yıldızıdır, parlayacak;\nO benimdir, o benim milletimindir ancak.\nÇatma, kurban olayım, çehreni ey nazlı hilal!\nKahraman ırkıma bir gül! Ne bu şiddet, bu celal?\nSana olmaz dökülen kanlarımız sonra helal...\nHakkıdır, hakk'a tapan, milletimin istiklal!\nBen ezelden beridir hür yaşadım, hür yaşarım.\nHangi çılgın bana zincir vuracakmış? Şaşarım!\nKükremiş sel gibiyim, bendimi çiğner, aşarım.\nYırtarım dağları, enginlere sığmam, taşarım.\nGarbın afakını sarmışsa çelik zırhlı duvar,\nBenim iman dolu göğsüm gibi serhaddim var.\nUlusun, korkma! Nasıl böyle bir imanı boğar,\n'Medeniyet!' dediğin tek dişi kalmış canavar?\nArkadaş! Yurduma alçakları uğratma, sakın.\nSiper et gövdeni, dursun bu hayasızca akın.\nDoğacaktır sana va'dettigi günler hakk'ın...\nKim bilir, belki yarın, belki yarından da yakın.\nBastığın yerleri 'toprak!' diyerek geçme, tanı:\nDüşün altında binlerce kefensiz yatanı.\nSen şehit oğlusun, incitme, yazıktır, atanı:\nVerme, dünyaları alsan da, bu cennet vatanı.\nKim bu cennet vatanın uğruna olmaz ki feda?\nŞuheda fışkıracak toprağı sıksan, şuheda!\nCanı, cananı, bütün varımı alsın da hüda,\nEtmesin tek vatanımdan beni dünyada cüda.\nRuhumun senden, ilahi, şudur ancak emeli:\nDeğmesin mabedimin göğsüne namahrem eli.\nBu ezanlar-ki şahadetleri dinin temeli,\nEbedi yurdumun üstünde benim inlemeli.\n\n"
    }
   ],
   "source": [
    "with open(\"istiklal.txt\", \"r\", encoding=\"utf-8\") as f:\n",
    "    istik= f.readlines()\n",
    "with open(\"istiklal.txt\", \"a\", encoding=\"utf-8\") as f:\n",
    "    f.write(\"\\n\")\n",
    "    for i in istik:\n",
    "        if i == \"\\n\":\n",
    "            i.replace(\"\\n\", \"\")\n",
    "        else:\n",
    "            f.write(i)\n",
    "with open(\"istiklal.txt\", \"r\", encoding=\"utf-8\") as f:\n",
    "    print(f.read())"
   ]
  },
  {
   "cell_type": "code",
   "execution_count": null,
   "metadata": {},
   "outputs": [],
   "source": []
  }
 ]
}