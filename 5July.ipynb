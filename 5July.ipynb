{
 "cells": [
  {
   "cell_type": "code",
   "execution_count": 7,
   "metadata": {
    "tags": []
   },
   "outputs": [
    {
     "output_type": "stream",
     "name": "stdout",
     "text": "76\n"
    }
   ],
   "source": [
    "scores = {\"Mary\" : 85, \"Susan\": 75, \"Barry\" : 65, \"Alexis\" : 88, \"Jane\" : 45, \"Tina\" : 100, \"Tom\" : 90, \"Tim\": 60}\n",
    "x = sum(scores.values())//len(scores.values())\n",
    "print(x)\n"
   ]
  },
  {
   "cell_type": "code",
   "execution_count": 15,
   "metadata": {},
   "outputs": [
    {
     "output_type": "execute_result",
     "data": {
      "text/plain": "-5"
     },
     "metadata": {},
     "execution_count": 15
    }
   ],
   "source": [
    "def make_negative( number ):\n",
    "    if number > 0:\n",
    "        return -number\n",
    "    if number <= 0:\n",
    "        return number\n",
    "make_negative(-5)"
   ]
  },
  {
   "cell_type": "code",
   "execution_count": 25,
   "metadata": {},
   "outputs": [
    {
     "output_type": "execute_result",
     "data": {
      "text/plain": "False"
     },
     "metadata": {},
     "execution_count": 25
    }
   ],
   "source": [
    "def is_isogram(string):\n",
    "    if len(string) == len(set(string)):\n",
    "        return True\n",
    "    else:\n",
    "        return False\n",
    "is_isogram(\"\")"
   ]
  },
  {
   "cell_type": "code",
   "execution_count": 22,
   "metadata": {
    "tags": []
   },
   "outputs": [
    {
     "output_type": "stream",
     "name": "stdout",
     "text": "{'b', 'a'}\n['a', 'b', 'a']\n"
    }
   ],
   "source": [
    "x = set(\"aba\")\n",
    "y = list(\"aba\")\n",
    "print(x)\n",
    "print(y)"
   ]
  },
  {
   "cell_type": "code",
   "execution_count": 43,
   "metadata": {},
   "outputs": [
    {
     "output_type": "execute_result",
     "data": {
      "text/plain": "False"
     },
     "metadata": {},
     "execution_count": 43
    }
   ],
   "source": [
    "def is_square(n):\n",
    "    if n**0.5 == (n**0.5)**2: \n",
    "        return True   \n",
    "    else:\n",
    "        return False\n",
    "is_square(25)"
   ]
  },
  {
   "cell_type": "code",
   "execution_count": 41,
   "metadata": {
    "tags": []
   },
   "outputs": [
    {
     "output_type": "execute_result",
     "data": {
      "text/plain": "int"
     },
     "metadata": {},
     "execution_count": 41
    }
   ],
   "source": [
    "type(round(8**0.5))"
   ]
  },
  {
   "cell_type": "code",
   "execution_count": null,
   "metadata": {},
   "outputs": [],
   "source": [
    "def is_perfect_square(num) :\n",
    "    left, right = 0, num\n",
    "    while left <= right:\n",
    "        mid = (left + right) // 2\n",
    "        if mid**2 < num:\n",
    "            left = mid + 1\n",
    "        elif mid**2 > num:\n",
    "            right = mid - 1\n",
    "        else:\n",
    "            return True\n",
    "    return False"
   ]
  },
  {
   "cell_type": "code",
   "execution_count": 73,
   "metadata": {
    "tags": []
   },
   "outputs": [
    {
     "output_type": "stream",
     "name": "stdout",
     "text": "[2, 3, 5, 7, 11, 13, 17, 19, 23, 29, 31, 37, 41, 43, 47, 53, 59, 61, 67, 71, 73, 79, 83, 89, 97]\n"
    }
   ],
   "source": [
    "num = 100                  #prime number asssignment\n",
    "prime = []\n",
    "for num in range(2, num + 1):\n",
    "    for i in range(2, num):\n",
    "        if(num % i == 0):\n",
    "            i = num\n",
    "            break\n",
    "    if(i != num):\n",
    "        prime.append(num)\n",
    "print(prime)\n",
    "        \n",
    "        "
   ]
  },
  {
   "cell_type": "code",
   "execution_count": 74,
   "metadata": {
    "tags": []
   },
   "outputs": [
    {
     "output_type": "stream",
     "name": "stdout",
     "text": "[2, 3, 5, 7, 11, 13, 17, 19, 23, 29, 31, 37, 41, 43, 47, 53, 59, 61, 67, 71, 73, 79, 83, 89, 97]\n"
    }
   ],
   "source": [
    "primes = []                         #prime number asssignment\n",
    "for n in range(2,101) :\n",
    "    count  = 0\n",
    "    for i in range (1,n+1) :\n",
    "        if n % i == 0 :\n",
    "            count += 1\n",
    "    if count == 2 :\n",
    "        primes.append(n)\n",
    "print(primes)"
   ]
  },
  {
   "cell_type": "code",
   "execution_count": 75,
   "metadata": {
    "tags": []
   },
   "outputs": [
    {
     "output_type": "stream",
     "name": "stdout",
     "text": "After local assignment: test spam\nAfter nonlocal assignment: nonlocal spam\nAfter global assignment: nonlocal spam\nIn global scope: global spam\n"
    }
   ],
   "source": [
    "def scope_test():\n",
    "    def do_local():\n",
    "        spam = \"local spam\"\n",
    "\n",
    "    def do_nonlocal():\n",
    "        nonlocal spam\n",
    "        spam = \"nonlocal spam\"\n",
    "\n",
    "    def do_global():\n",
    "        global spam\n",
    "        spam = \"global spam\"\n",
    "\n",
    "    spam = \"test spam\"\n",
    "    do_local()\n",
    "    print(\"After local assignment:\", spam)\n",
    "    do_nonlocal()\n",
    "    print(\"After nonlocal assignment:\", spam)\n",
    "    do_global()\n",
    "    print(\"After global assignment:\", spam)\n",
    "\n",
    "scope_test()\n",
    "print(\"In global scope:\", spam)"
   ]
  },
  {
   "cell_type": "code",
   "execution_count": 77,
   "metadata": {
    "tags": []
   },
   "outputs": [
    {
     "output_type": "stream",
     "name": "stdout",
     "text": "nahzugo\n"
    }
   ],
   "source": [
    "reverse = (lambda x:x[::-1])(\"oguzhan\")\n",
    "print(reverse)"
   ]
  },
  {
   "cell_type": "code",
   "execution_count": 82,
   "metadata": {
    "tags": []
   },
   "outputs": [
    {
     "output_type": "stream",
     "name": "stdout",
     "text": "[1, 2, 3, 4]\n"
    }
   ],
   "source": [
    "list = [1,2,3,4]\n",
    "for i in list:\n",
    "    a = (lambda i :\"even\" if i%2==0 else \"odd\")\n",
    "print(list)"
   ]
  },
  {
   "cell_type": "code",
   "execution_count": 83,
   "metadata": {
    "tags": []
   },
   "outputs": [
    {
     "output_type": "stream",
     "name": "stdout",
     "text": "2 : çift\n9 : tek\n-7 : tek\n15 : tek\n22 : çift\n"
    }
   ],
   "source": [
    "for x in [2, 9, -7, 15, 22]:\n",
    "    print(x, \":\", (lambda x: \"tek\" if x%2 != 0 else \"çift\")(x))"
   ]
  },
  {
   "cell_type": "code",
   "execution_count": 85,
   "metadata": {
    "tags": []
   },
   "outputs": [
    {
     "output_type": "stream",
     "name": "stdout",
     "text": "0 : even\n1 : odd\n2 : even\n3 : odd\n4 : even\n5 : odd\n6 : even\n7 : odd\n8 : even\n9 : odd\n10 : even\n"
    }
   ],
   "source": [
    "for i in range (11):\n",
    "    print(i, \":\", (lambda i: \"odd\" if i%2!=0 else \"even\")(i))"
   ]
  },
  {
   "cell_type": "code",
   "execution_count": 86,
   "metadata": {
    "tags": []
   },
   "outputs": [
    {
     "output_type": "stream",
     "name": "stdout",
     "text": "-22 : even\n20 : even\n10 : even\n1 : odd\n2 : even\n3 : odd\n4 : even\n"
    }
   ],
   "source": [
    "sayılar = [-22, 20, 10, 1, 2, 3, 4]\n",
    "for x in sayılar:\n",
    "    print(x, \":\", (lambda a : \"odd\" if a % 2 != 0 else \"even\")(x))"
   ]
  },
  {
   "cell_type": "code",
   "execution_count": 8,
   "metadata": {
    "tags": []
   },
   "outputs": [],
   "source": [
    "x = 'My name is Richard'\n",
    "def my_function_1(): \n",
    "    x = 'My name is John'\n",
    "    print(x)"
   ]
  },
  {
   "cell_type": "code",
   "execution_count": 9,
   "metadata": {
    "tags": []
   },
   "outputs": [
    {
     "output_type": "stream",
     "name": "stdout",
     "text": "[1, 4, 9, 16, 25]\n"
    }
   ],
   "source": [
    "number_list=[1, 2, 3, 4, 5]\n",
    "\n",
    "result= list(map(lambda x : x**2, number_list))\n",
    "print(result)"
   ]
  },
  {
   "cell_type": "code",
   "execution_count": 24,
   "metadata": {
    "tags": []
   },
   "outputs": [
    {
     "output_type": "stream",
     "name": "stdout",
     "text": "[True, False, True, False, True, False, True, False, True, False]\n"
    }
   ],
   "source": [
    "number_list=[1, 2, 3, 4, 5, 6, 7, 8, 9, 10]\n",
    "\n",
    "result= list(map(lambda x: x%2 != 0, number_list)) \n",
    "print(result)"
   ]
  },
  {
   "cell_type": "code",
   "execution_count": 27,
   "metadata": {
    "tags": []
   },
   "outputs": [
    {
     "output_type": "stream",
     "name": "stdout",
     "text": "1\n2\n3 is Fizz\n4\n5 is Buzz\n6 is Fizz\n7\n8\n9 is Fizz\n10 is Buzz\n11\n12 is Fizz\n13\n14\n15 is FizzBuzz\n16\n17\n18 is Fizz\n19\n20 is Buzz\n21 is Fizz\n22\n23\n24 is Fizz\n25 is Buzz\n26\n27 is Fizz\n28\n29\n30 is FizzBuzz\n31\n32\n33 is Fizz\n34\n35 is Buzz\n36 is Fizz\n37\n38\n39 is Fizz\n40 is Buzz\n41\n42 is Fizz\n43\n44\n45 is FizzBuzz\n46\n47\n48 is Fizz\n49\n50 is Buzz\n51 is Fizz\n52\n53\n54 is Fizz\n55 is Buzz\n56\n57 is Fizz\n58\n59\n60 is FizzBuzz\n61\n62\n63 is Fizz\n64\n65 is Buzz\n66 is Fizz\n67\n68\n69 is Fizz\n70 is Buzz\n71\n72 is Fizz\n73\n74\n75 is FizzBuzz\n76\n77\n78 is Fizz\n79\n80 is Buzz\n81 is Fizz\n82\n83\n84 is Fizz\n85 is Buzz\n86\n87 is Fizz\n88\n89\n90 is FizzBuzz\n91\n92\n93 is Fizz\n94\n95 is Buzz\n96 is Fizz\n97\n98\n99 is Fizz\n100 is Buzz\n"
    },
    {
     "output_type": "error",
     "ename": "TypeError",
     "evalue": "'int' object is not iterable",
     "traceback": [
      "\u001b[1;31m---------------------------------------------------------------------------\u001b[0m",
      "\u001b[1;31mTypeError\u001b[0m                                 Traceback (most recent call last)",
      "\u001b[1;32m<ipython-input-27-81cfb6167f73>\u001b[0m in \u001b[0;36m<module>\u001b[1;34m\u001b[0m\n\u001b[0;32m      9\u001b[0m     \u001b[1;32melse\u001b[0m\u001b[1;33m:\u001b[0m\u001b[1;33m\u001b[0m\u001b[1;33m\u001b[0m\u001b[0m\n\u001b[0;32m     10\u001b[0m         \u001b[0mprint\u001b[0m\u001b[1;33m(\u001b[0m\u001b[0mi\u001b[0m\u001b[1;33m)\u001b[0m\u001b[1;33m\u001b[0m\u001b[1;33m\u001b[0m\u001b[0m\n\u001b[1;32m---> 11\u001b[1;33m \u001b[0mprint\u001b[0m\u001b[1;33m(\u001b[0m\u001b[0mlist\u001b[0m\u001b[1;33m(\u001b[0m\u001b[0mi\u001b[0m\u001b[1;33m)\u001b[0m\u001b[1;33m)\u001b[0m\u001b[1;33m\u001b[0m\u001b[1;33m\u001b[0m\u001b[0m\n\u001b[0m",
      "\u001b[1;31mTypeError\u001b[0m: 'int' object is not iterable"
     ]
    }
   ],
   "source": [
    "for i in range(1,101):\n",
    "    if i%3==0 and i%5==0:\n",
    "        print(i, \"is FizzBuzz\")\n",
    "    elif i%3==0:\n",
    "        print(i, \"is Fizz\")\n",
    "    elif i%5 == 0:\n",
    "        print(i, \"is Buzz\")\n",
    "    \n",
    "    else:\n",
    "        print(i)\n",
    "print(list(i))"
   ]
  },
  {
   "cell_type": "code",
   "execution_count": 44,
   "metadata": {
    "tags": []
   },
   "outputs": [
    {
     "output_type": "execute_result",
     "data": {
      "text/plain": "5.0"
     },
     "metadata": {},
     "execution_count": 44
    }
   ],
   "source": [
    "import math\n",
    "math.hypot(3,4)"
   ]
  },
  {
   "cell_type": "code",
   "execution_count": 34,
   "metadata": {},
   "outputs": [
    {
     "output_type": "error",
     "ename": "ModuleNotFoundError",
     "evalue": "No module named 'fibo'",
     "traceback": [
      "\u001b[1;31m---------------------------------------------------------------------------\u001b[0m",
      "\u001b[1;31mModuleNotFoundError\u001b[0m                       Traceback (most recent call last)",
      "\u001b[1;32m<ipython-input-34-d5502b485b79>\u001b[0m in \u001b[0;36m<module>\u001b[1;34m\u001b[0m\n\u001b[0;32m     13\u001b[0m         \u001b[0ma\u001b[0m\u001b[1;33m,\u001b[0m \u001b[0mb\u001b[0m \u001b[1;33m=\u001b[0m \u001b[0mb\u001b[0m\u001b[1;33m,\u001b[0m \u001b[0ma\u001b[0m\u001b[1;33m+\u001b[0m\u001b[0mb\u001b[0m\u001b[1;33m\u001b[0m\u001b[1;33m\u001b[0m\u001b[0m\n\u001b[0;32m     14\u001b[0m     \u001b[1;32mreturn\u001b[0m \u001b[0mresult\u001b[0m\u001b[1;33m\u001b[0m\u001b[1;33m\u001b[0m\u001b[0m\n\u001b[1;32m---> 15\u001b[1;33m \u001b[1;32mimport\u001b[0m \u001b[0mfibo\u001b[0m\u001b[1;33m\u001b[0m\u001b[1;33m\u001b[0m\u001b[0m\n\u001b[0m\u001b[0;32m     16\u001b[0m \u001b[0mfibo\u001b[0m\u001b[1;33m.\u001b[0m\u001b[0mfib\u001b[0m\u001b[1;33m(\u001b[0m\u001b[1;36m1000\u001b[0m\u001b[1;33m)\u001b[0m\u001b[1;33m\u001b[0m\u001b[1;33m\u001b[0m\u001b[0m\n",
      "\u001b[1;31mModuleNotFoundError\u001b[0m: No module named 'fibo'"
     ]
    }
   ],
   "source": [
    "def fib(n):    # write Fibonacci series up to n\n",
    "    a, b = 0, 1\n",
    "    while a < n:\n",
    "        print(a, end=' ')\n",
    "        a, b = b, a+b\n",
    "    print()\n",
    "\n",
    "def fib2(n):   # return Fibonacci series up to n\n",
    "    result = []\n",
    "    a, b = 0, 1\n",
    "    while a < n:\n",
    "        result.append(a)\n",
    "        a, b = b, a+b\n",
    "    return result\n",
    "import fibo\n",
    "fibo.fib(1000)"
   ]
  },
  {
   "cell_type": "code",
   "execution_count": 69,
   "metadata": {
    "tags": []
   },
   "outputs": [
    {
     "output_type": "execute_result",
     "data": {
      "text/plain": "120"
     },
     "metadata": {},
     "execution_count": 69
    }
   ],
   "source": [
    "def factorial(num):                    #factorial\n",
    "    for x in range(1,num+1):\n",
    "        for i in range(1,num):\n",
    "            num *= i\n",
    "        return num\n",
    "factorial(5)"
   ]
  },
  {
   "cell_type": "code",
   "execution_count": 75,
   "metadata": {
    "tags": []
   },
   "outputs": [
    {
     "output_type": "stream",
     "name": "stdout",
     "text": "mukyela numales\n"
    }
   ],
   "source": [
    "iterable = \"selamun aleykum\"\n",
    "tersten = (lambda x : x[::-1])\n",
    "print(tersten(iterable))\n"
   ]
  },
  {
   "cell_type": "code",
   "execution_count": 78,
   "metadata": {
    "tags": []
   },
   "outputs": [
    {
     "output_type": "stream",
     "name": "stdout",
     "text": "[6.0, 6.0, 6.0, 6.0]\n"
    }
   ],
   "source": [
    "num1 = [9,6,7,4]\n",
    "num2 = [3,6,5,8]\n",
    "arit_avg = map(lambda x,y :(x+y)/2 ,num1,num2)\n",
    "print(list(arit_avg))"
   ]
  },
  {
   "cell_type": "code",
   "execution_count": 80,
   "metadata": {
    "tags": []
   },
   "outputs": [
    {
     "output_type": "stream",
     "name": "stdout",
     "text": "i love you\nyou ate much\nhe works hard\n"
    }
   ],
   "source": [
    "words1=[\"you\",\"much\",\"hard\"]\n",
    "words2=[\"i\",\"you\",\"he\"]\n",
    "words3=[\"love\",\"ate\",\"works\"]\n",
    "sentence =map(lambda x,y,z : y + \" \" + z + \" \" + x, words1, words2, words3)\n",
    "for i in sentence:\n",
    "    print(i)\n",
    "\n"
   ]
  },
  {
   "cell_type": "code",
   "execution_count": 83,
   "metadata": {
    "tags": []
   },
   "outputs": [
    {
     "output_type": "stream",
     "name": "stdout",
     "text": "swim\nme\nkiwi\n"
    }
   ],
   "source": [
    "words = [ \"apple\",\"swim\", \"clock\",\"me\",\"kiwi\", \"banana\"]\n",
    "short_word = filter(lambda x: len(x)<5 , words)\n",
    "for i in short_word:\n",
    "    print(i)"
   ]
  },
  {
   "cell_type": "code",
   "execution_count": 86,
   "metadata": {
    "tags": []
   },
   "outputs": [
    {
     "output_type": "stream",
     "name": "stdout",
     "text": "['e', 'u']\n"
    }
   ],
   "source": [
    "vowel=[\"a\",\"e\",\"i\",\"o\",\"u\"]\n",
    "letter =[\"q\",\"w\",\"e\",\"r\",\"u\",\"j\",\"c\",\"d\",\"s\",\"x\"]\n",
    "select= filter(lambda x: True if x in vowel else False, letter)\n",
    "print(list(select))"
   ]
  },
  {
   "cell_type": "code",
   "execution_count": 16,
   "metadata": {
    "tags": []
   },
   "outputs": [
    {
     "output_type": "stream",
     "name": "stdout",
     "text": "your sententence has 9 vowel and 11 constant\n"
    }
   ],
   "source": [
    "sentence = str(input(\"write a sentence:  \"))\n",
    "list_sentence =list(sentence)\n",
    "vowel =list(\"aeiou\")\n",
    "constant= list(\"qwrtyplkjhgfdszxcvbnm\")\n",
    "counter1=0\n",
    "counter2=0\n",
    "for i in list_sentence:\n",
    "    if i in vowel:\n",
    "        counter1 += 1\n",
    "    elif i in constant:\n",
    "        counter2 += 1\n",
    "\n",
    "print(f\"your sententence has {counter1} vowel and {counter2} constant\")\n",
    "\n"
   ]
  },
  {
   "cell_type": "code",
   "execution_count": null,
   "metadata": {},
   "outputs": [],
   "source": []
  }
 ],
 "metadata": {
  "language_info": {
   "codemirror_mode": {
    "name": "ipython",
    "version": 3
   },
   "file_extension": ".py",
   "mimetype": "text/x-python",
   "name": "python",
   "nbconvert_exporter": "python",
   "pygments_lexer": "ipython3",
   "version": "3.7.6-final"
  },
  "orig_nbformat": 2,
  "kernelspec": {
   "name": "python_defaultSpec_1595155110122",
   "display_name": "Python 3.7.6 64-bit ('base': conda)"
  }
 },
 "nbformat": 4,
 "nbformat_minor": 2
}