{
 "cells": [
  {
   "cell_type": "code",
   "execution_count": 1,
   "metadata": {
    "tags": []
   },
   "outputs": [
    {
     "output_type": "stream",
     "name": "stdout",
     "text": "True\n"
    }
   ],
   "source": [
    "print(10 > 9)"
   ]
  },
  {
   "cell_type": "code",
   "execution_count": null,
   "metadata": {},
   "outputs": [],
   "source": [
    "age = input(\"Are you a cigarette addict older than 75 years old? ('y' or 'n'): \")\n",
    "chronic = input(\"Do you have a severe chronic disease? ('y' or 'n'): \")\n",
    "immune = input(\"Is your immune system too weak? ('y' or 'n'): \")\n",
    "if age == 'y' and chronic == 'y' and immune == 'y':\n",
    "    print('High risk')\n",
    "else:\n",
    "    print('No risk')"
   ]
  },
  {
   "cell_type": "code",
   "execution_count": 8,
   "metadata": {
    "tags": []
   },
   "outputs": [
    {
     "output_type": "stream",
     "name": "stdout",
     "text": "True\nFalse\n"
    }
   ],
   "source": [
    "age = False\n",
    "chronic = True\n",
    "immune = True\n",
    "risk = age or chronic or immune\n",
    "print(risk)\n",
    "no_risk = age and chronic and immune\n",
    "print(no_risk)"
   ]
  },
  {
   "cell_type": "code",
   "execution_count": 8,
   "metadata": {
    "tags": []
   },
   "outputs": [
    {
     "output_type": "stream",
     "name": "stdout",
     "text": "5.0\n"
    }
   ],
   "source": [
    "a = 3 \n",
    "b = 4\n",
    "\n",
    "c = (a**2 + b**2)**0.5\n",
    "print(c) "
   ]
  },
  {
   "cell_type": "code",
   "execution_count": 19,
   "metadata": {
    "tags": []
   },
   "outputs": [
    {
     "output_type": "stream",
     "name": "stdout",
     "text": "2020 year\n"
    }
   ],
   "source": [
    "number = 2020\n",
    "text = \"year\"\n",
    "print(number, text)"
   ]
  },
  {
   "cell_type": "code",
   "execution_count": 33,
   "metadata": {
    "tags": []
   },
   "outputs": [
    {
     "output_type": "stream",
     "name": "stdout",
     "text": "ali\n\n\nahmet\n"
    }
   ],
   "source": [
    "print(\"ali\", end=\"\\n\\n\\n\")\n",
    "print(\"ahmet\")"
   ]
  },
  {
   "cell_type": "code",
   "execution_count": 31,
   "metadata": {
    "tags": []
   },
   "outputs": [
    {
     "output_type": "stream",
     "name": "stdout",
     "text": "ahmet mehmet aslı\nahmet mehmet aslı\n"
    }
   ],
   "source": [
    "print(\"ahmet\",\"mehmet\",\"aslı\", )\n",
    "sep=\"/n\"\n",
    "print(\"ahmet\", \"mehmet\", \"aslı\")"
   ]
  },
  {
   "cell_type": "code",
   "execution_count": 34,
   "metadata": {
    "tags": []
   },
   "outputs": [
    {
     "output_type": "stream",
     "name": "stdout",
     "text": "value of x         : 5\n2 more of x        : 7 \n\n"
    }
   ],
   "source": [
    "x = 5\n",
    "print('value of x         :', x)\n",
    "\n",
    "x +=2\n",
    "print(\"2 more of x        :\", x, \"\\n\")"
   ]
  },
  {
   "cell_type": "code",
   "execution_count": 36,
   "metadata": {
    "tags": []
   },
   "outputs": [
    {
     "output_type": "stream",
     "name": "stdout",
     "text": "benim \"bugun\" en mutlu gunum\n"
    }
   ],
   "source": [
    "print(\"benim \\\"bugun\\\" en mutlu gunum\")"
   ]
  },
  {
   "cell_type": "code",
   "execution_count": 37,
   "metadata": {
    "tags": []
   },
   "outputs": [
    {
     "output_type": "stream",
     "name": "stdout",
     "text": "\\\n"
    }
   ],
   "source": [
    "print(\"\\\\\")"
   ]
  },
  {
   "cell_type": "code",
   "execution_count": 62,
   "metadata": {
    "tags": []
   },
   "outputs": [
    {
     "output_type": "error",
     "ename": "SyntaxError",
     "evalue": "invalid syntax (<ipython-input-62-efa07010720e>, line 1)",
     "traceback": [
      "\u001b[1;36m  File \u001b[1;32m\"<ipython-input-62-efa07010720e>\"\u001b[1;36m, line \u001b[1;32m1\u001b[0m\n\u001b[1;33m    text = \"Clarusway, Clarusway, Clarusway, '\\t'\"Clarusway, Clarusway, Clarusway\",\u001b[0m\n\u001b[1;37m                                                          ^\u001b[0m\n\u001b[1;31mSyntaxError\u001b[0m\u001b[1;31m:\u001b[0m invalid syntax\n"
     ]
    }
   ],
   "source": [
    "text = \"Clarusway, Clarusway, Clarusway, '\\t'\"Clarusway, Clarusway, Clarusway\",\n",
    "'\\t\\t''Clarusway, Clarusway, Clarusway\"\n",
    "print(text)"
   ]
  },
  {
   "cell_type": "code",
   "execution_count": 54,
   "metadata": {
    "tags": []
   },
   "outputs": [
    {
     "output_type": "stream",
     "name": "stdout",
     "text": "0\nTrue\n"
    }
   ],
   "source": [
    "print(1 and 0)\n",
    "print(not 0)"
   ]
  },
  {
   "cell_type": "code",
   "execution_count": 64,
   "metadata": {
    "tags": []
   },
   "outputs": [
    {
     "output_type": "stream",
     "name": "stdout",
     "text": "None\n"
    }
   ],
   "source": [
    "print(None and ())"
   ]
  },
  {
   "cell_type": "code",
   "execution_count": 2,
   "metadata": {
    "tags": []
   },
   "outputs": [
    {
     "output_type": "stream",
     "name": "stdout",
     "text": "[]\n"
    }
   ],
   "source": [
    "print(False or [] and {0})"
   ]
  },
  {
   "cell_type": "code",
   "execution_count": 9,
   "metadata": {
    "tags": []
   },
   "outputs": [
    {
     "output_type": "stream",
     "name": "stdout",
     "text": "131.0 Fahrenheit\n\n52.816535 miles\n"
    }
   ],
   "source": [
    "celsius = float(input(\"Enter Celsius temperature\"))\n",
    "print(9*celsius//5 + 32, \"Fahrenheit\", end=\"\\n\\n\")  \n",
    "\n",
    "kilometer = float(input(\"Enter distance in km\"))\n",
    "print(kilometer*0.621371, \"miles\")"
   ]
  },
  {
   "cell_type": "code",
   "execution_count": 13,
   "metadata": {
    "tags": []
   },
   "outputs": [
    {
     "output_type": "stream",
     "name": "stdout",
     "text": "Word     : Orange\nFirst Letter: O\n3rd to five letter: ange\n"
    }
   ],
   "source": [
    "fruit = \"Orange\"\n",
    "print('Word     :', fruit)\n",
    "print('First Letter:', fruit[0])\n",
    "print('3rd to five letter:', fruit[2:])"
   ]
  },
  {
   "cell_type": "code",
   "execution_count": 19,
   "metadata": {
    "tags": []
   },
   "outputs": [
    {
     "output_type": "stream",
     "name": "stdout",
     "text": "ttu\n"
    }
   ],
   "source": [
    "vegetable = \"lettuce\"\n",
    "print(vegetable[2:5])"
   ]
  },
  {
   "cell_type": "code",
   "execution_count": 3,
   "metadata": {
    "tags": []
   },
   "outputs": [
    {
     "output_type": "stream",
     "name": "stdout",
     "text": "1605.7814764784307\n"
    }
   ],
   "source": [
    "deposit = 1000\n",
    "deposit = 1000 * 1.07 **7\n",
    "print(deposit)"
   ]
  },
  {
   "cell_type": "code",
   "execution_count": 5,
   "metadata": {
    "tags": []
   },
   "outputs": [
    {
     "output_type": "stream",
     "name": "stdout",
     "text": "string a string b string c string\n"
    }
   ],
   "source": [
    "data1 = \"a\"\n",
    "data2 = \"b\"\n",
    "data3 = \"c\"\n",
    "\n",
    "print('string {} string {} string {} string'.format(data1, data2, data3))"
   ]
  },
  {
   "cell_type": "code",
   "execution_count": 8,
   "metadata": {
    "tags": []
   },
   "outputs": [
    {
     "output_type": "stream",
     "name": "stdout",
     "text": "circumstances in all generosity wins\n"
    }
   ],
   "source": [
    "phrase = '{} {} {} {}'.format('circumstances', 'in all', 'generosity', 'wins')\n",
    "print(phrase)"
   ]
  },
  {
   "cell_type": "code",
   "execution_count": 11,
   "metadata": {
    "tags": []
   },
   "outputs": [
    {
     "output_type": "stream",
     "name": "stdout",
     "text": "My name is Mariam\n"
    }
   ],
   "source": [
    "name = 'MARIAM'\n",
    "output = f\"My name is {name.capitalize()}\"\n",
    "print(output)"
   ]
  },
  {
   "cell_type": "code",
   "execution_count": 17,
   "metadata": {
    "tags": []
   },
   "outputs": [
    {
     "output_type": "stream",
     "name": "stdout",
     "text": "Susan is a younglady and she is a studentat the CLRWY IT university\n"
    }
   ],
   "source": [
    "name = \"Susan\"\n",
    "age =\"young\"\n",
    "gender = \"lady\"\n",
    "school =\"CLRWY IT university\"\n",
    "output = (f\"{name} is a {age}\"\n",
    " f\"{gender} and she is a student\"\n",
    " f\"at the {school}\") \n",
    "print(output)"
   ]
  },
  {
   "cell_type": "code",
   "execution_count": 18,
   "metadata": {
    "tags": []
   },
   "outputs": [
    {
     "output_type": "stream",
     "name": "stdout",
     "text": "Hello I am new programmer an I love Clarusway\n"
    }
   ],
   "source": [
    "text = \"{} I am {} programmer an I {} Clarusway\".format(\"Hello\", \"new\", \"love\")\n",
    "print(text)"
   ]
  },
  {
   "cell_type": "code",
   "execution_count": 20,
   "metadata": {
    "tags": []
   },
   "outputs": [
    {
     "output_type": "stream",
     "name": "stdout",
     "text": "True\nTrue\nFalse\n\nTrue\nTrue\nFalse\nTrue\n"
    }
   ],
   "source": [
    "text = \"www.clarusway.com\"\n",
    "print(\"Merhaba Serdar\".startswith(\"M\"))\n",
    "print(\"Merhaba Serdar\".startswith(\"b\", 5))\n",
    "print(\"Merhaba Serdar\".startswith(\"m\"))\n",
    "print()\n",
    "print(text.endswith(\"m\"))\n",
    "print(text.endswith(\"m\", -1))\n",
    "print(text.endswith(\"m\", 1, -1))\n",
    "print(text.endswith(\"c\", -5, -2))"
   ]
  },
  {
   "cell_type": "code",
   "execution_count": 22,
   "metadata": {
    "tags": []
   },
   "outputs": [
    {
     "output_type": "stream",
     "name": "stdout",
     "text": "claruswayclarusway\n"
    }
   ],
   "source": [
    "word = 'clarusway'\n",
    "n = 3\n",
    "front = word.replace[]\n",
    "back = word.rstrip('n=3')\n",
    "print(front + back)"
   ]
  },
  {
   "cell_type": "code",
   "execution_count": 36,
   "metadata": {
    "tags": []
   },
   "outputs": [
    {
     "output_type": "stream",
     "name": "stdout",
     "text": "clausway\n"
    }
   ],
   "source": [
    "word = 'clarusway'\n",
    "print(word[:3] + word[4:])\n"
   ]
  },
  {
   "cell_type": "code",
   "execution_count": 37,
   "metadata": {
    "tags": []
   },
   "outputs": [
    {
     "output_type": "stream",
     "name": "stdout",
     "text": "clausway\n"
    }
   ],
   "source": [
    "word = 'clarusway'\n",
    "n = 3\n",
    "front = word[:3]\n",
    "back =word[4:]\n",
    "print(front + back)"
   ]
  },
  {
   "cell_type": "code",
   "execution_count": 1,
   "metadata": {
    "tags": []
   },
   "outputs": [
    {
     "output_type": "stream",
     "name": "stdout",
     "text": "abcdhij\n"
    }
   ],
   "source": [
    "s = 'abcdefghij'\n",
    "print(s[:4] + s[7:])\n",
    "# abcdhij"
   ]
  },
  {
   "cell_type": "code",
   "execution_count": 1,
   "metadata": {
    "tags": []
   },
   "outputs": [
    {
     "output_type": "stream",
     "name": "stdout",
     "text": "[0, 1, 2, 3, 4, 5, 6, 7, 8, 9, 10]\n[10, 9, 8, 7, 6, 5, 4, 3, 2, 1, 0]\n"
    }
   ],
   "source": [
    "count = list(range(11)) \n",
    "print(count)\n",
    "print(count[::-1])"
   ]
  },
  {
   "cell_type": "code",
   "execution_count": 16,
   "metadata": {
    "tags": []
   },
   "outputs": [
    {
     "output_type": "stream",
     "name": "stdout",
     "text": "I am 40 years old.\n\tI have two children.\n\t\tData Science is my IT domain.\n"
    }
   ],
   "source": [
    "escapes = [\"\\n\\t\", (\"\\t\", \"\\t\\t\"), [\"\\n\", \"\\n\\t\\t\"]]\n",
    "\n",
    "sentence = \"I am 40 years old.{}I have two children.{}Data Science is my IT domain.\".format(escapes[0], escapes[2][1])\n",
    "\n",
    "print(sentence)"
   ]
  },
  {
   "cell_type": "code",
   "execution_count": null,
   "metadata": {},
   "outputs": [],
   "source": []
  },
  {
   "cell_type": "code",
   "execution_count": 1,
   "metadata": {
    "tags": []
   },
   "outputs": [
    {
     "output_type": "stream",
     "name": "stdout",
     "text": "[10, 9, 8, 7, 6, 5, 4, 3, 2, 1]\n"
    }
   ],
   "source": [
    "count = list(range(1,11)) \n",
    "count.sort(reverse=True)\n",
    "print(count)"
   ]
  },
  {
   "cell_type": "code",
   "execution_count": 4,
   "metadata": {
    "tags": []
   },
   "outputs": [
    {
     "output_type": "stream",
     "name": "stdout",
     "text": "teroperability\n"
    }
   ],
   "source": [
    "text = \"interoperability\".lstrip(\"ni\")\n",
    "print(text)"
   ]
  },
  {
   "cell_type": "code",
   "execution_count": 6,
   "metadata": {
    "tags": []
   },
   "outputs": [
    {
     "output_type": "stream",
     "name": "stdout",
     "text": "interoperabili\n"
    }
   ],
   "source": [
    "text = \"interoperabilityty\".rstrip(\"ty\")\n",
    "print(text)"
   ]
  },
  {
   "cell_type": "code",
   "execution_count": 8,
   "metadata": {
    "tags": []
   },
   "outputs": [
    {
     "output_type": "stream",
     "name": "stdout",
     "text": "YOU CAN LEARN ALMOST EVERYTHING IN PRE-CLASS\n"
    }
   ],
   "source": [
    "text = 'tyou can learn almost everything in pre-classz'\n",
    "print(text.strip(\"tz\").upper())"
   ]
  },
  {
   "cell_type": "code",
   "execution_count": 13,
   "metadata": {
    "tags": []
   },
   "outputs": [
    {
     "output_type": "stream",
     "name": "stdout",
     "text": "In God we Trust\n"
    }
   ],
   "source": [
    "text = 'In God wee Trust'\n",
    "print(text.replace(\"ee\",\"e\"))"
   ]
  },
  {
   "cell_type": "code",
   "execution_count": 10,
   "metadata": {
    "tags": []
   },
   "outputs": [
    {
     "output_type": "stream",
     "name": "stdout",
     "text": "In God we Trust\n"
    }
   ],
   "source": [
    "text = 'In God wee Trust'\n",
    "text1 = text[:9]\n",
    "text2 = text[10:]\n",
    "print(text1+text2)"
   ]
  },
  {
   "cell_type": "code",
   "execution_count": 15,
   "metadata": {
    "tags": []
   },
   "outputs": [
    {
     "output_type": "stream",
     "name": "stdout",
     "text": "erzurum\nerzurumerzurum\n"
    }
   ],
   "source": [
    "print(\"erzurum\")\n",
    "print(\"erzurum\" * 2, sep =\" \")"
   ]
  },
  {
   "cell_type": "code",
   "execution_count": 19,
   "metadata": {
    "tags": []
   },
   "outputs": [
    {
     "output_type": "stream",
     "name": "stdout",
     "text": "e,r,z,u,r,u,m\n"
    }
   ],
   "source": [
    "print(* \"erzurum\", sep = \",\")"
   ]
  },
  {
   "cell_type": "code",
   "execution_count": 20,
   "metadata": {
    "tags": []
   },
   "outputs": [
    {
     "output_type": "stream",
     "name": "stdout",
     "text": "e r z u r u m e r z u r u m\n"
    }
   ],
   "source": [
    "print(* \"erzurum\" *2)"
   ]
  },
  {
   "cell_type": "code",
   "execution_count": 22,
   "metadata": {
    "tags": []
   },
   "outputs": [
    {
     "output_type": "stream",
     "name": "stdout",
     "text": "<class 'str'>\n"
    }
   ],
   "source": [
    "print(type(input(\"enter a number: \")))"
   ]
  },
  {
   "cell_type": "code",
   "execution_count": 25,
   "metadata": {
    "tags": []
   },
   "outputs": [
    {
     "output_type": "stream",
     "name": "stdout",
     "text": "3 + 4'nin toplami 7'dir.\n"
    }
   ],
   "source": [
    "a =3\n",
    "b =4\n",
    "\n",
    "print(\"{} + {}'nin toplami {}'dir.\".format(a, b, a + b))"
   ]
  },
  {
   "cell_type": "code",
   "execution_count": 38,
   "metadata": {
    "tags": []
   },
   "outputs": [
    {
     "output_type": "stream",
     "name": "stdout",
     "text": "formatlama              test              formatlama\n"
    }
   ],
   "source": [
    "text1 = \"formatlama {:^30} formatlama\".format(\"test\")  #<>^  sola saga ve ortaya\n",
    "print(text1)"
   ]
  },
  {
   "cell_type": "code",
   "execution_count": 5,
   "metadata": {
    "tags": []
   },
   "outputs": [
    {
     "output_type": "stream",
     "name": "stdout",
     "text": "['h', 'a', 'p', 'p', 'y']\n"
    }
   ],
   "source": [
    "word = \"happy\"\n",
    "list_2 = list(word)\n",
    "print(list_2)"
   ]
  },
  {
   "cell_type": "code",
   "execution_count": 7,
   "metadata": {
    "tags": []
   },
   "outputs": [
    {
     "output_type": "stream",
     "name": "stdout",
     "text": "['2', '0', '2', '0', \"'\", 's', ' ', 'h', 'a', 'r', 'd']\n[\"2020's hard\"]\n"
    }
   ],
   "source": [
    "string = \"2020's hard\"\n",
    "print(list(string))\n",
    "print([string])"
   ]
  },
  {
   "cell_type": "code",
   "execution_count": null,
   "metadata": {},
   "outputs": [],
   "source": []
  },
  {
   "cell_type": "code",
   "execution_count": null,
   "metadata": {},
   "outputs": [],
   "source": []
  },
  {
   "cell_type": "code",
   "execution_count": 14,
   "metadata": {
    "tags": []
   },
   "outputs": [
    {
     "output_type": "stream",
     "name": "stdout",
     "text": "140140.0\n"
    }
   ],
   "source": [
    "x = float(\"140\" * int(input(\"Enter a number:\" )))\n",
    "#Enter a number: 2\n",
    "print(x)"
   ]
  },
  {
   "cell_type": "code",
   "execution_count": 15,
   "metadata": {
    "tags": []
   },
   "outputs": [
    {
     "output_type": "stream",
     "name": "stdout",
     "text": "51\n51\n51\n"
    }
   ],
   "source": [
    "print(int(\"5\" + \"1\"))\n",
    "print(str(\"5\" + \"1\"))\n",
    "print(\"5\" + \"1\")"
   ]
  },
  {
   "cell_type": "code",
   "execution_count": 17,
   "metadata": {
    "tags": []
   },
   "outputs": [
    {
     "output_type": "stream",
     "name": "stdout",
     "text": "The less you sleep and eat, the better your life will be.\n"
    }
   ],
   "source": [
    "var1 = \"sleep\"\n",
    "var2 = \"eat\"\n",
    "var3 = \"better\"\n",
    "var4 = \"life\"\n",
    "\n",
    "sentence = f\"The less you {var1} and {var2}, the {var3} your {var4} will be.\"\n",
    "print(sentence)"
   ]
  },
  {
   "cell_type": "code",
   "execution_count": null,
   "metadata": {},
   "outputs": [],
   "source": [
    "numbers = ['1', '2', '5', 3, 4]"
   ]
  },
  {
   "cell_type": "code",
   "execution_count": 21,
   "metadata": {
    "tags": []
   },
   "outputs": [
    {
     "output_type": "stream",
     "name": "stdout",
     "text": "I live in Sarajevo\n"
    }
   ],
   "source": [
    "city = \"SARAJEVO\"\n",
    "text = f\"I live in {city.capitalize()}.\"\n",
    "print(text)"
   ]
  },
  {
   "cell_type": "code",
   "execution_count": 4,
   "metadata": {
    "tags": []
   },
   "outputs": [
    {
     "output_type": "stream",
     "name": "stdout",
     "text": "['h', 'a', 'p', 'p', 'y']\n"
    }
   ],
   "source": [
    "word = \"happy\"\n",
    "list_2 = list(word)\n",
    "print(list_2)"
   ]
  },
  {
   "cell_type": "code",
   "execution_count": 12,
   "metadata": {
    "tags": []
   },
   "outputs": [
    {
     "output_type": "stream",
     "name": "stdout",
     "text": "[1, 2, 5, 3, 4]\n"
    }
   ],
   "source": [
    "numbers = []\n",
    "numbers.append(1)\n",
    "numbers.append(2)\n",
    "numbers.append(3)\n",
    "numbers.append(4)\n",
    "numbers.insert(2, 5)\n",
    "print(numbers)"
   ]
  },
  {
   "cell_type": "code",
   "execution_count": 8,
   "metadata": {
    "tags": []
   },
   "outputs": [
    {
     "output_type": "stream",
     "name": "stdout",
     "text": "True\n"
    }
   ],
   "source": [
    "num = int(input(\"Please write four digit year to learn the year is leap year or not: \"))\n",
    "print((num % 4 == 0) and (num % 100 != 0) or (num % 400 == 0))   \n"
   ]
  },
  {
   "cell_type": "code",
   "execution_count": null,
   "metadata": {},
   "outputs": [],
   "source": []
  }
 ],
 "metadata": {
  "language_info": {
   "codemirror_mode": {
    "name": "ipython",
    "version": 3
   },
   "file_extension": ".py",
   "mimetype": "text/x-python",
   "name": "python",
   "nbconvert_exporter": "python",
   "pygments_lexer": "ipython3",
   "version": "3.7.6-final"
  },
  "orig_nbformat": 2,
  "kernelspec": {
   "name": "python_defaultSpec_1594230194436",
   "display_name": "Python 3.7.6 64-bit ('base': conda)"
  }
 },
 "nbformat": 4,
 "nbformat_minor": 2
}