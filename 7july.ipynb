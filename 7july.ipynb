{
 "metadata": {
  "language_info": {
   "codemirror_mode": {
    "name": "ipython",
    "version": 3
   },
   "file_extension": ".py",
   "mimetype": "text/x-python",
   "name": "python",
   "nbconvert_exporter": "python",
   "pygments_lexer": "ipython3",
   "version": 3
  },
  "orig_nbformat": 2,
  "kernelspec": {
   "name": "python_defaultSpec_1596626127000",
   "display_name": "Python 3.7.6 64-bit ('base': conda)"
  }
 },
 "nbformat": 4,
 "nbformat_minor": 2,
 "cells": [
  {
   "cell_type": "code",
   "execution_count": 24,
   "metadata": {
    "tags": []
   },
   "outputs": [
    {
     "output_type": "stream",
     "name": "stdout",
     "text": "itchen\n"
    }
   ],
   "source": [
    "def missing_char(word, n):\n",
    "    x = word.replace(word[n], \"\")\n",
    "    return x\n",
    "print(missing_char(\"kitchen\",0))"
   ]
  },
  {
   "cell_type": "code",
   "execution_count": 7,
   "metadata": {
    "tags": []
   },
   "outputs": [
    {
     "output_type": "stream",
     "name": "stdout",
     "text": "s\n"
    }
   ],
   "source": [
    "word= \"selam\"\n",
    "print(word[0])"
   ]
  },
  {
   "cell_type": "code",
   "execution_count": 26,
   "metadata": {},
   "outputs": [
    {
     "output_type": "execute_result",
     "data": {
      "text/plain": "6"
     },
     "metadata": {},
     "execution_count": 26
    }
   ],
   "source": [
    "toplacikar = {\"topla\" : lambda x, y : x + y,\n",
    "              \"cikar\" : lambda x, y : x - y}\n",
    "toplacikar[\"topla\"](9,3)\n",
    "toplacikar[\"cikar\"](9,3)"
   ]
  },
  {
   "cell_type": "code",
   "execution_count": 30,
   "metadata": {
    "tags": []
   },
   "outputs": [
    {
     "output_type": "stream",
     "name": "stdout",
     "text": "1 : odd\n2 : even\n3 : odd\n4 : even\n5 : odd\n"
    }
   ],
   "source": [
    "for i in [1,2,3,4,5]:\n",
    "    print(i, \":\", (lambda x: \"even\" if x%2 ==0 else \"odd\")(i))"
   ]
  },
  {
   "cell_type": "code",
   "execution_count": 31,
   "metadata": {
    "tags": []
   },
   "outputs": [
    {
     "output_type": "stream",
     "name": "stdout",
     "text": "Bulundugumuz yil : 2020\nBulundugumuz ay : 7\nBulundugumuz yil : 25\n"
    }
   ],
   "source": [
    "import datetime\n",
    "now = datetime.datetime.now()\n",
    "print(f\"Bulundugumuz yil : {now.year}\") \n",
    "print(f\"Bulundugumuz ay : {now.month}\")\n",
    "print(f\"Bulundugumuz yil : {now.day}\")"
   ]
  },
  {
   "cell_type": "code",
   "execution_count": 32,
   "metadata": {},
   "outputs": [
    {
     "output_type": "execute_result",
     "data": {
      "text/plain": "['1', '2', '3', '4', '5']"
     },
     "metadata": {},
     "execution_count": 32
    }
   ],
   "source": [
    "benim = [1,2,3,4,5]                    #LIST COMPREHENTION IMPORTANT\n",
    "[str(i) for i in benim]"
   ]
  },
  {
   "cell_type": "code",
   "execution_count": 40,
   "metadata": {},
   "outputs": [
    {
     "output_type": "execute_result",
     "data": {
      "text/plain": "[[1], [2], [3], [4], [5]]"
     },
     "metadata": {},
     "execution_count": 40
    }
   ],
   "source": [
    "benim = [1,2,3,4,5]                    #LIST COMPREHENTION IMPORTANT\n",
    "[[i] for i in benim]"
   ]
  },
  {
   "cell_type": "code",
   "execution_count": 34,
   "metadata": {
    "tags": []
   },
   "outputs": [
    {
     "output_type": "stream",
     "name": "stdout",
     "text": "{0: 0, 1: 1, 2: 4, 3: 9, 4: 16, 5: 25}\n"
    }
   ],
   "source": [
    "dic = {i:i**2 for i in range(6)}                #DICTIONARY COMPREHENTION IMPORTANT\n",
    "print(dic)"
   ]
  },
  {
   "cell_type": "code",
   "execution_count": 43,
   "metadata": {
    "tags": []
   },
   "outputs": [
    {
     "output_type": "execute_result",
     "data": {
      "text/plain": "{'square root of 0 is': 0,\n 'square root of 1 is': 1,\n 'square root of 2 is': 4,\n 'square root of 3 is': 9,\n 'square root of 4 is': 16,\n 'square root of 5 is': 25}"
     },
     "metadata": {},
     "execution_count": 43
    }
   ],
   "source": [
    "dic = {\"square root of \" + str(i) + \" is\":i**2 for i in range(6)}\n",
    "dic"
   ]
  },
  {
   "cell_type": "code",
   "execution_count": 42,
   "metadata": {
    "tags": []
   },
   "outputs": [
    {
     "output_type": "execute_result",
     "data": {
      "text/plain": "{'square root of 0 is': 0,\n 'square root of 1 is': 1,\n 'square root of 2 is': 4,\n 'square root of 3 is': 9,\n 'square root of 4 is': 16,\n 'square root of 5 is': 25}"
     },
     "metadata": {},
     "execution_count": 42
    }
   ],
   "source": [
    "dic = {f\"square root of {str(i)} is\" :i**2 for i in range(6)}\n",
    "dic"
   ]
  },
  {
   "cell_type": "code",
   "execution_count": 46,
   "metadata": {},
   "outputs": [
    {
     "output_type": "execute_result",
     "data": {
      "text/plain": "[-20, 10]"
     },
     "metadata": {},
     "execution_count": 46
    }
   ],
   "source": [
    "L = [\"right 20\", \"right 30\", \"left 50\", \"up 10\", \"down 20\"]\n",
    "x = y = 0\n",
    "for i in range(len(L)):\n",
    "    if L[i].startswith(\"r\") : x = x + int(L[i].split()[1])\n",
    "    elif L[i].startswith(\"l\") : x = x - int(L[i].split()[1])\n",
    "    elif L[i].startswith(\"u\") : y = y + int(L[i].split()[1])\n",
    "    elif L[i].startswith(\"d\") : x = x - int(L[i].split()[1])\n",
    "    \n",
    "[x,y]\n",
    "\n"
   ]
  },
  {
   "cell_type": "code",
   "execution_count": 107,
   "metadata": {
    "tags": []
   },
   "outputs": [
    {
     "output_type": "stream",
     "name": "stdout",
     "text": "[['eat', 'tea', 'ate'], ['tan', 'nat'], ['bat']]\n"
    }
   ],
   "source": [
    "words = [\"eat\", \"tea\", \"tan\", \"ate\", \"nat\", \"bat\"]\n",
    "list= [[],[],[]]\n",
    "for i in words:\n",
    "    if sorted(i) == sorted(words[0]):\n",
    "        list[0].append(i)\n",
    "    elif sorted(i) == sorted(words[2]):\n",
    "        list[1].append(i)\n",
    "    else:\n",
    "        list[2].append(i)\n",
    "print(list)\n",
    "\n",
    "\n"
   ]
  },
  {
   "cell_type": "code",
   "execution_count": 105,
   "metadata": {
    "tags": []
   },
   "outputs": [
    {
     "output_type": "stream",
     "name": "stdout",
     "text": "['a', 'e', 't']\n['a', 'e', 't']\n['a', 'n', 't']\n['a', 'e', 't']\n['a', 'n', 't']\n['a', 'b', 't']\n"
    }
   ],
   "source": [
    "words = [\"eat\", \"tea\", \"tan\", \"ate\", \"nat\", \"bat\"]\n",
    "for i in words:\n",
    "    print(sorted(i))"
   ]
  },
  {
   "cell_type": "code",
   "execution_count": 104,
   "metadata": {},
   "outputs": [
    {
     "output_type": "execute_result",
     "data": {
      "text/plain": "['a', 'e', 't']"
     },
     "metadata": {},
     "execution_count": 104
    }
   ],
   "source": [
    "words = [\"eat\", \"tea\", \"tan\", \"ate\", \"nat\", \"bat\"]\n",
    "sorted(words[0])\n"
   ]
  },
  {
   "cell_type": "code",
   "execution_count": 78,
   "metadata": {
    "tags": []
   },
   "outputs": [
    {
     "output_type": "execute_result",
     "data": {
      "text/plain": "['aabb', 'bbaa']"
     },
     "metadata": {},
     "execution_count": 78
    }
   ],
   "source": [
    "def anagrams(word, words):\n",
    "    my = []\n",
    "    for i in words:\n",
    "        if sorted(list(i)) == sorted(list(word)):\n",
    "            my.append(i)\n",
    "    return(my)\n",
    "            #print(f\"'{word}' & '{i}' == true\")\n",
    "        #else:\n",
    "            #print(f\"'{word}' & '{i}' == false\")\n",
    "anagrams('abba', ['aabb', 'abcd', 'bbaa', 'dada'])"
   ]
  },
  {
   "cell_type": "code",
   "execution_count": 49,
   "metadata": {
    "tags": []
   },
   "outputs": [
    {
     "output_type": "stream",
     "name": "stdout",
     "text": "aabb\nabcd\nbbaa\ndada\n"
    }
   ],
   "source": [
    "def anagrams(word, words):\n",
    "    for i in words:\n",
    "        print(i)\n",
    "anagrams('abba', ['aabb', 'abcd', 'bbaa', 'dada'])"
   ]
  },
  {
   "cell_type": "code",
   "execution_count": 114,
   "metadata": {},
   "outputs": [
    {
     "output_type": "error",
     "ename": "TypeError",
     "evalue": "'list' object is not callable",
     "traceback": [
      "\u001b[1;31m---------------------------------------------------------------------------\u001b[0m",
      "\u001b[1;31mTypeError\u001b[0m                                 Traceback (most recent call last)",
      "\u001b[1;32m<ipython-input-114-c5298138f49d>\u001b[0m in \u001b[0;36m<module>\u001b[1;34m\u001b[0m\n\u001b[0;32m      1\u001b[0m \u001b[0mx\u001b[0m \u001b[1;33m=\u001b[0m \u001b[1;33m[\u001b[0m\u001b[1;36m1\u001b[0m\u001b[1;33m,\u001b[0m\u001b[1;36m2\u001b[0m\u001b[1;33m,\u001b[0m\u001b[1;36m3\u001b[0m\u001b[1;33m]\u001b[0m\u001b[1;33m\u001b[0m\u001b[1;33m\u001b[0m\u001b[0m\n\u001b[1;32m----> 2\u001b[1;33m \u001b[0mlist\u001b[0m\u001b[1;33m(\u001b[0m\u001b[0mx\u001b[0m\u001b[1;33m)\u001b[0m\u001b[1;33m\u001b[0m\u001b[1;33m\u001b[0m\u001b[0m\n\u001b[0m",
      "\u001b[1;31mTypeError\u001b[0m: 'list' object is not callable"
     ]
    }
   ],
   "source": [
    "x = [1,2,3]\n",
    "list(x)"
   ]
  },
  {
   "cell_type": "code",
   "execution_count": 115,
   "metadata": {
    "tags": []
   },
   "outputs": [
    {
     "output_type": "stream",
     "name": "stdout",
     "text": "[[3, 2, 1], [2, 3, 1], [2, 1, 3], [3, 1, 2], [1, 3, 2], [1, 2, 3]]\n"
    }
   ],
   "source": [
    "xx = [1, 2, 3]                            #gozat onemli\n",
    "result = [[]]\n",
    "for j in xx:\n",
    "    my_perms = []\n",
    "    for p in result:\n",
    "        for i in range(len(p)+1):\n",
    "            my_perms.append(p[:i] + [j] + p[i:])\n",
    "            result = my_perms\n",
    "print(result)"
   ]
  },
  {
   "cell_type": "code",
   "execution_count": 116,
   "metadata": {
    "tags": []
   },
   "outputs": [
    {
     "output_type": "stream",
     "name": "stdout",
     "text": "no,fruit,amount\n1,Banana,4 lb\n2,Orange,5 lb\n3,Apple,2 lb\n4,Strawberry,6 lb\n5,Cherry,3 lb\n"
    }
   ],
   "source": [
    "with open(\"fruit.csv\", 'r', encoding=\"utf-8\") as file:\n",
    "    print(file.read())"
   ]
  },
  {
   "cell_type": "code",
   "execution_count": 122,
   "metadata": {
    "tags": []
   },
   "outputs": [
    {
     "output_type": "stream",
     "name": "stdout",
     "text": "['Row_number', ' first_name', ' last_name', ' age']\n['1', 'ahmet', ' bey', ' 41']\n['2', 'osman', ' deniz', ' 33']\n['3', 'temel', ' yildiz', ' 17']\n['4', 'cengiz', ' baba', ' 13']\n['5', 'fatma', ' ana', ' 88']\n"
    }
   ],
   "source": [
    "import csv\n",
    "with open(\"people.csv\", \"r\", newline='', encoding=\"utf-8\") as dost:\n",
    "    arkadas = csv.reader(dost, delimiter = ',')\n",
    "    for i in arkadas:\n",
    "        print(i)"
   ]
  },
  {
   "cell_type": "code",
   "execution_count": 126,
   "metadata": {
    "tags": []
   },
   "outputs": [
    {
     "output_type": "stream",
     "name": "stdout",
     "text": "['Row_number, first_name, last_name, age']\n['1,ahmet, bey, 41']\n['2,osman, deniz, 33']\n['3,temel, yildiz, 17']\n['4,cengiz, baba, 13']\n['5,fatma, ana, 88']\n"
    }
   ],
   "source": [
    "import csv\n",
    "with open(\"people.csv\", \"r\", newline='', encoding=\"utf-8\") as dost:\n",
    "    arkadas = csv.reader(dost, delimiter = ':')\n",
    "    for i in arkadas:\n",
    "        print(i)"
   ]
  },
  {
   "cell_type": "code",
   "execution_count": 131,
   "metadata": {},
   "outputs": [
    {
     "output_type": "error",
     "ename": "NameError",
     "evalue": "name 'ali' is not defined",
     "traceback": [
      "\u001b[1;31m---------------------------------------------------------------------------\u001b[0m",
      "\u001b[1;31mNameError\u001b[0m                                 Traceback (most recent call last)",
      "\u001b[1;32m<ipython-input-131-ac9053db43d2>\u001b[0m in \u001b[0;36m<module>\u001b[1;34m\u001b[0m\n\u001b[0;32m      1\u001b[0m \u001b[1;32mimport\u001b[0m \u001b[0mmath\u001b[0m\u001b[1;33m\u001b[0m\u001b[1;33m\u001b[0m\u001b[0m\n\u001b[1;32m----> 2\u001b[1;33m \u001b[0mfactorial\u001b[0m\u001b[1;33m(\u001b[0m\u001b[0mali\u001b[0m\u001b[1;33m)\u001b[0m\u001b[1;33m\u001b[0m\u001b[1;33m\u001b[0m\u001b[0m\n\u001b[0m",
      "\u001b[1;31mNameError\u001b[0m: name 'ali' is not defined"
     ]
    }
   ],
   "source": [
    "import math\n",
    "factorial(ali)"
   ]
  },
  {
   "cell_type": "code",
   "execution_count": 130,
   "metadata": {},
   "outputs": [
    {
     "output_type": "error",
     "ename": "TypeError",
     "evalue": "must be real number, not str",
     "traceback": [
      "\u001b[1;31m---------------------------------------------------------------------------\u001b[0m",
      "\u001b[1;31mTypeError\u001b[0m                                 Traceback (most recent call last)",
      "\u001b[1;32m<ipython-input-130-a97ac41768c5>\u001b[0m in \u001b[0;36m<module>\u001b[1;34m\u001b[0m\n\u001b[1;32m----> 1\u001b[1;33m \u001b[0mmath\u001b[0m\u001b[1;33m.\u001b[0m\u001b[0mlog\u001b[0m\u001b[1;33m(\u001b[0m\u001b[1;34m\"emre\"\u001b[0m\u001b[1;33m)\u001b[0m\u001b[1;33m\u001b[0m\u001b[1;33m\u001b[0m\u001b[0m\n\u001b[0m",
      "\u001b[1;31mTypeError\u001b[0m: must be real number, not str"
     ]
    }
   ],
   "source": [
    "math.log(\"emre\")"
   ]
  },
  {
   "cell_type": "code",
   "execution_count": 135,
   "metadata": {
    "tags": []
   },
   "outputs": [
    {
     "output_type": "stream",
     "name": "stdout",
     "text": "Please enter correct number\nThe result of the division is :  2.0\n"
    }
   ],
   "source": [
    "while True:\n",
    "    no_one = int(input(\"The first number please : \"))\n",
    "    no_two = int(input(\"The second number please : \"))\n",
    "    try:\n",
    "        division = no_one / no_two\n",
    "        print(\"The result of the division is : \", division)\n",
    "        break\n",
    "    except:\n",
    "        print(\"Please enter correct number\")\n",
    "    "
   ]
  },
  {
   "cell_type": "code",
   "execution_count": 140,
   "metadata": {},
   "outputs": [],
   "source": [
    "try:\n",
    "    isim = input(\"isminiz:  \")\n",
    "    int(\"5\")\n",
    "except Exception as e:\n",
    "    with open(\"hata.txt\", \"a\", encoding=\"utf-8\") as joseph:\n",
    "        joseph.write(isim + \",\" + str(e) + \"\\n\")\n"
   ]
  },
  {
   "cell_type": "code",
   "execution_count": 142,
   "metadata": {},
   "outputs": [
    {
     "output_type": "error",
     "ename": "NameError",
     "evalue": "name 'pd' is not defined",
     "traceback": [
      "\u001b[1;31m---------------------------------------------------------------------------\u001b[0m",
      "\u001b[1;31mNameError\u001b[0m                                 Traceback (most recent call last)",
      "\u001b[1;32m<ipython-input-142-e487a565bfde>\u001b[0m in \u001b[0;36m<module>\u001b[1;34m\u001b[0m\n\u001b[0;32m      1\u001b[0m \u001b[1;32mimport\u001b[0m \u001b[0mpandas\u001b[0m\u001b[1;33m\u001b[0m\u001b[1;33m\u001b[0m\u001b[0m\n\u001b[1;32m----> 2\u001b[1;33m \u001b[0mdf\u001b[0m \u001b[1;33m=\u001b[0m \u001b[0mpd\u001b[0m\u001b[1;33m.\u001b[0m\u001b[0mread_csv\u001b[0m\u001b[1;33m(\u001b[0m\u001b[1;34m\"hata.txt\"\u001b[0m\u001b[1;33m)\u001b[0m\u001b[1;33m\u001b[0m\u001b[1;33m\u001b[0m\u001b[0m\n\u001b[0m\u001b[0;32m      3\u001b[0m \u001b[0mdf\u001b[0m\u001b[1;33m\u001b[0m\u001b[1;33m\u001b[0m\u001b[0m\n",
      "\u001b[1;31mNameError\u001b[0m: name 'pd' is not defined"
     ]
    }
   ],
   "source": [
    "import pandas\n",
    "df = pd.read_csv(\"hata.txt\")\n",
    "df"
   ]
  },
  {
   "cell_type": "code",
   "execution_count": 227,
   "metadata": {
    "tags": []
   },
   "outputs": [
    {
     "output_type": "stream",
     "name": "stdout",
     "text": "- - - - - - - - - - - - - - - \n0  0  0  | 0  6  4  | 0  0  0 \n7  0  0  | 0  0  0  | 3  9  0 \n8  0  0  | 0  0  0  | 0  0  0 \n- - - - - - - - - - - - - - - \n0  0  0  | 5  0  2  | 0  6  0 \n0  8  0  | 4  0  0  | 0  0  0 \n3  5  0  | 6  0  0  | 0  7  0 \n- - - - - - - - - - - - - - - \n0  0  2  | 0  0  0  | 1  0  3 \n0  0  1  | 0  5  9  | 0  0  0 \n0  0  0  | 0  0  0  | 7  0  0 \n- - - - - - - - - - - - - - - \n"
    }
   ],
   "source": [
    "                                    #sudoku assignment\n",
    "sudoku = [\n",
    "    [0, 0, 0, 0, 6, 4, 0, 0, 0],\n",
    "    [7, 0, 0, 0, 0, 0, 3, 9, 0],\n",
    "    [8, 0, 0, 0, 0, 0, 0, 0, 0],\n",
    "    [0, 0, 0, 5, 0, 2, 0, 6, 0],\n",
    "    [0, 8, 0, 4, 0, 0, 0, 0, 0],\n",
    "    [3, 5, 0, 6, 0, 0, 0, 7, 0],\n",
    "    [0, 0, 2, 0, 0, 0, 1, 0, 3],\n",
    "    [0, 0, 1, 0, 5, 9, 0, 0, 0],\n",
    "    [0, 0, 0, 0, 0, 0, 7, 0, 0]\n",
    "]\n",
    "counter = 0\n",
    "print(\"- \"*15)  \n",
    "for i in sudoku:\n",
    "    print(f\"{i[0]}  {i[1]}  {i[2]}  | {i[3]}  {i[4]}  {i[5]}  | {i[6]}  {i[7]}  {i[8]} \")\n",
    "    counter +=1\n",
    "    if counter == 3 or counter == 6 or counter == 9:\n",
    "        print(\"- \"*15)\n",
    "        "
   ]
  },
  {
   "cell_type": "code",
   "execution_count": 217,
   "metadata": {},
   "outputs": [
    {
     "output_type": "execute_result",
     "data": {
      "text/plain": "'ylaruswac'"
     },
     "metadata": {},
     "execution_count": 217
    }
   ],
   "source": [
    "def front_back(word):\n",
    "    if len(word) == 1:\n",
    "        return word\n",
    "    else:\n",
    "        return word[-1] + word[1:len(word)-1] + word[0]\n",
    "front_back(\"clarusway\")"
   ]
  },
  {
   "cell_type": "code",
   "execution_count": 223,
   "metadata": {},
   "outputs": [
    {
     "output_type": "execute_result",
     "data": {
      "text/plain": "-100"
     },
     "metadata": {},
     "execution_count": 223
    }
   ],
   "source": [
    "def my_min(*n):\n",
    "   return min(n) \n",
    "my_min(-100)"
   ]
  },
  {
   "cell_type": "code",
   "execution_count": 224,
   "metadata": {
    "tags": []
   },
   "outputs": [
    {
     "output_type": "stream",
     "name": "stdout",
     "text": "www.clarusway.com will open your path."
    }
   ],
   "source": [
    "print('www', 'clarusway', \"com\", sep='.', end=' ')\n",
    "print('will', end=' ')\n",
    "print('open', end=' ')\n",
    "print('your', end=' ')\n",
    "print('path', end='.')"
   ]
  },
  {
   "cell_type": "code",
   "execution_count": 229,
   "metadata": {
    "tags": []
   },
   "outputs": [
    {
     "output_type": "stream",
     "name": "stdout",
     "text": "---------------------\n0 0 0 | 0 6 4 | 0 0 0 \n7 0 0 | 0 0 0 | 3 9 0 \n8 0 0 | 0 0 0 | 0 0 0 \n---------------------\n0 0 0 | 5 0 2 | 0 6 0 \n0 8 0 | 4 0 0 | 0 0 0 \n3 5 0 | 6 0 0 | 0 7 0 \n---------------------\n0 0 2 | 0 0 0 | 1 0 3 \n0 0 1 | 0 5 9 | 0 0 0 \n0 0 0 | 0 0 0 | 7 0 0 \n---------------------\n"
    }
   ],
   "source": [
    "b = [\n",
    "    [0, 0, 0, 0, 6, 4, 0, 0, 0],\n",
    "    [7, 0, 0, 0, 0, 0, 3, 9, 0],\n",
    "    [8, 0, 0, 0, 0, 0, 0, 0, 0],\n",
    "    [0, 0, 0, 5, 0, 2, 0, 6, 0],\n",
    "    [0, 8, 0, 4, 0, 0, 0, 0, 0],\n",
    "    [3, 5, 0, 6, 0, 0, 0, 7, 0],\n",
    "    [0, 0, 2, 0, 0, 0, 1, 0, 3],\n",
    "    [0, 0, 1, 0, 5, 9, 0, 0, 0],\n",
    "    [0, 0, 0, 0, 0, 0, 7, 0, 0]\n",
    "]\n",
    "print('-'*21)\n",
    "for i in range(len(b)) :\n",
    "    if i==3 or i==6:\n",
    "        print('-'*21)\n",
    "    for j in range(len(b[i])+2) :\n",
    "        if j==3 or j==7:\n",
    "            b[i].insert(j, '|')\n",
    "        print(b[i][j], end=\" \")\n",
    "    print()\n",
    "print('-'*21)"
   ]
  },
  {
   "cell_type": "code",
   "execution_count": 230,
   "metadata": {
    "tags": []
   },
   "outputs": [
    {
     "output_type": "stream",
     "name": "stdout",
     "text": "Some people dream of success while others wake up and work.\n"
    }
   ],
   "source": [
    "print(\"{4} {9} {1} {7} {5} {0} {6} {8} {3} {2}\".format('while', 'dream', 'work.', 'and', 'Some', 'success', 'others', 'of', 'wake up', 'people'))"
   ]
  },
  {
   "cell_type": "code",
   "execution_count": 233,
   "metadata": {
    "tags": []
   },
   "outputs": [
    {
     "output_type": "stream",
     "name": "stdout",
     "text": "True\n"
    }
   ],
   "source": [
    "print(not None or 2)"
   ]
  },
  {
   "cell_type": "code",
   "execution_count": 234,
   "metadata": {
    "tags": []
   },
   "outputs": [
    {
     "output_type": "stream",
     "name": "stdout",
     "text": "I will find a job.\n"
    }
   ],
   "source": [
    "print(\"{3} {2} {4} {1} {0}\".format('job.', 'a', 'will', 'I', 'find'))"
   ]
  },
  {
   "cell_type": "code",
   "execution_count": 235,
   "metadata": {
    "tags": []
   },
   "outputs": [
    {
     "output_type": "stream",
     "name": "stdout",
     "text": "Python Data Types And Useful Operations\n"
    }
   ],
   "source": [
    "section_3_5 = \"python data types and useful operations\"\n",
    "print(str.title(section_3_5))"
   ]
  },
  {
   "cell_type": "code",
   "execution_count": 3,
   "metadata": {
    "tags": []
   },
   "outputs": [
    {
     "output_type": "stream",
     "name": "stdout",
     "text": "12\n16\n60\n"
    }
   ],
   "source": [
    "def my_sum(*n):\n",
    "    x = sum(n)\n",
    "    return x\n",
    "print(my_sum(9, 1, 3, 0, -1))\n",
    "print(my_sum(5, 7, 4))\n",
    "print(my_sum(10, -20, 30, 40))"
   ]
  },
  {
   "cell_type": "code",
   "execution_count": null,
   "metadata": {},
   "outputs": [],
   "source": []
  }
 ]
}