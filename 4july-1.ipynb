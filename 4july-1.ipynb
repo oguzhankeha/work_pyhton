{
 "cells": [
  {
   "cell_type": "code",
   "execution_count": 16,
   "metadata": {
    "tags": []
   },
   "outputs": [
    {
     "output_type": "stream",
     "name": "stdout",
     "text": "0 1 1 2 3 5 8 13 21 34 55 89 144 233 377"
    }
   ],
   "source": [
    "def fib(n):\n",
    "    a, b = 0, 1\n",
    "\n",
    "    while a < n:\n",
    "        print(a, end=' ')\n",
    "        a ,b = b, a+b\n",
    "\n",
    "fib(500)"
   ]
  },
  {
   "cell_type": "code",
   "execution_count": 3,
   "metadata": {
    "tags": []
   },
   "outputs": [
    {
     "output_type": "stream",
     "name": "stdout",
     "text": "[0, 1, 1, 2, 3, 5, 8, 13, 21, 34, 55]\n"
    }
   ],
   "source": [
    "x = []\n",
    "a = 0\n",
    "b = 1\n",
    "sum = 1\n",
    "\n",
    "while a <= 55:\n",
    "    x.append(a)\n",
    "    a = b \n",
    "    b = sum\n",
    "    sum = a+b \n",
    "              \n",
    "print(x)"
   ]
  },
  {
   "cell_type": "code",
   "execution_count": 5,
   "metadata": {},
   "outputs": [
    {
     "output_type": "execute_result",
     "data": {
      "text/plain": "[1, 1, 2, 3, 5, 8, 13, 21, 34, 55]"
     },
     "metadata": {},
     "execution_count": 5
    }
   ],
   "source": [
    "fibo = []\n",
    "for i in range(-2, 8) :\n",
    "    if i < 0 : fibo.append(1)\n",
    "    else : fibo.append(fibo[i] + fibo[i+1])\n",
    "fibo"
   ]
  },
  {
   "cell_type": "code",
   "execution_count": null,
   "metadata": {},
   "outputs": [],
   "source": [
    "n = int(input(\"Enter the value of 'n': \"))\n",
    "a = 0\n",
    "b = 1\n",
    "sum = 0\n",
    "count = 1\n",
    "print(\"Fibonacci Series: \", end = \" \")\n",
    "while(count <= n):\n",
    "  print(sum, end = \" \")\n",
    "  count += 1\n",
    "  a = b\n",
    "  b = sum\n",
    "  sum = a + b"
   ]
  },
  {
   "cell_type": "code",
   "execution_count": 1,
   "metadata": {
    "tags": []
   },
   "outputs": [
    {
     "output_type": "execute_result",
     "data": {
      "text/plain": "120"
     },
     "metadata": {},
     "execution_count": 1
    }
   ],
   "source": [
    "def my_function(a,b,c):\n",
    "    #area =(a*b)\n",
    "    volume = (a*b*c)\n",
    "    #return area\n",
    "    return volume\n",
    "my_function(4,5,6)"
   ]
  },
  {
   "cell_type": "code",
   "execution_count": 11,
   "metadata": {
    "tags": []
   },
   "outputs": [
    {
     "output_type": "stream",
     "name": "stdout",
     "text": "\nNone\n"
    }
   ],
   "source": [
    "print(print())"
   ]
  },
  {
   "cell_type": "code",
   "execution_count": 15,
   "metadata": {
    "tags": []
   },
   "outputs": [
    {
     "output_type": "stream",
     "name": "stdout",
     "text": "[(0, 'bread'), (1, 'water'), (2, 'olive')]\n(0, 'bread')\n(1, 'water')\n(2, 'olive')\n"
    }
   ],
   "source": [
    "grocery =[\"bread\", \"water\", \"olive\"]\n",
    "enumerate(grocery)\n",
    "degisken = list(enumerate(grocery))\n",
    "print(degisken)\n",
    "for i in degisken:\n",
    "    print(i)"
   ]
  },
  {
   "cell_type": "code",
   "execution_count": 24,
   "metadata": {
    "tags": []
   },
   "outputs": [
    {
     "output_type": "stream",
     "name": "stdout",
     "text": "{1: 'bread', 2: 'water', 3: 'olive'}\n"
    }
   ],
   "source": [
    "grocery =[\"bread\", \"water\", \"olive\"]\n",
    "enumerate(grocery,)\n",
    "degisken = dict(enumerate(grocery, 1))\n",
    "print(degisken)"
   ]
  },
  {
   "cell_type": "code",
   "execution_count": 32,
   "metadata": {
    "tags": []
   },
   "outputs": [
    {
     "output_type": "stream",
     "name": "stdout",
     "text": "3.67\n3.67\n"
    }
   ],
   "source": [
    "print(round(3.675 ,2))\n",
    "print(round(3.665 ,2))    #3.675 sayısında yuvarlama yaparken 5'in solundaki sayı tek ise yuvarlama yapmaz ancak çift ise bir üste yuvarlar3.675 sayısında yuvarlama yaparken 5'in solundaki sayı tek ise yuvarlama yapmaz ancak çift ise bir üste yuvarlar"
   ]
  },
  {
   "cell_type": "code",
   "execution_count": 30,
   "metadata": {
    "tags": []
   },
   "outputs": [
    {
     "output_type": "stream",
     "name": "stdout",
     "text": "1.6000000000000000888178419700125232338905334472656250000000000000000000000000000000000000000000000000\n1.6999999999999999555910790149937383830547332763671875000000000000000000000000000000000000000000000000\n"
    }
   ],
   "source": [
    "print(\"{:.100f}\".format(1.6))\n",
    "print(\"{:.100f}\".format(1.7))"
   ]
  },
  {
   "cell_type": "code",
   "execution_count": 49,
   "metadata": {
    "tags": []
   },
   "outputs": [
    {
     "output_type": "stream",
     "name": "stdout",
     "text": "solution is 34\n"
    }
   ],
   "source": [
    "def kare(a, b):\n",
    "    print(\"solution is\", a**2 + b**2)\n",
    "kare(3,5)\n"
   ]
  },
  {
   "cell_type": "code",
   "execution_count": 51,
   "metadata": {
    "tags": []
   },
   "outputs": [
    {
     "output_type": "stream",
     "name": "stdout",
     "text": "3\n"
    }
   ],
   "source": [
    "def add(a, b):\n",
    "    print(a+b)\n",
    "add(-5, 8)"
   ]
  },
  {
   "cell_type": "code",
   "execution_count": 52,
   "metadata": {
    "tags": []
   },
   "outputs": [
    {
     "output_type": "stream",
     "name": "stdout",
     "text": "3.7142857142857144\n"
    }
   ],
   "source": [
    "def calculator(x, y, opr) :\n",
    "    if opr == \"+\":\n",
    "        print(x+y)\n",
    "    elif opr == \"-\":\n",
    "        print(x-y)\n",
    "    elif opr == \"*\":\n",
    "        print(x*y)\n",
    "    elif opr == \"/\":\n",
    "        print(x/y)\n",
    "    else : print(\"enter valid\")\n",
    "calculator(26, 7, \"/\")"
   ]
  },
  {
   "cell_type": "code",
   "execution_count": 61,
   "metadata": {
    "tags": []
   },
   "outputs": [
    {
     "output_type": "stream",
     "name": "stdout",
     "text": "degerlerin carpim, toplam ve bolumu (32, 12, 2.0)\n"
    }
   ],
   "source": [
    "def karisik (a, b):\n",
    "    x = a * b\n",
    "    y = a + b\n",
    "    z = a / b\n",
    "    return x, y, z\n",
    "print(\"degerlerin carpim, toplam ve bolumu\", karisik(8, 4))"
   ]
  },
  {
   "cell_type": "code",
   "execution_count": 59,
   "metadata": {
    "tags": []
   },
   "outputs": [
    {
     "output_type": "stream",
     "name": "stdout",
     "text": "7\n"
    }
   ],
   "source": [
    "def toplam(a, b):\n",
    "    return a + b\n",
    "toplam(3,4)\n",
    "yeni = toplam(3,4)\n",
    "print(yeni)"
   ]
  },
  {
   "cell_type": "code",
   "execution_count": 62,
   "metadata": {},
   "outputs": [
    {
     "output_type": "execute_result",
     "data": {
      "text/plain": "3.7142857142857144"
     },
     "metadata": {},
     "execution_count": 62
    }
   ],
   "source": [
    "def calculator(x, y, opr) :\n",
    "    if opr == \"+\":\n",
    "        return x+y\n",
    "    elif opr == \"-\":\n",
    "        return x-y\n",
    "    elif opr == \"*\":\n",
    "        return x*y\n",
    "    elif opr == \"/\":\n",
    "        return x/y\n",
    "    else : return(\"enter valid\")\n",
    "calculator(26, 7, \"/\")"
   ]
  },
  {
   "cell_type": "code",
   "execution_count": 63,
   "metadata": {
    "tags": []
   },
   "outputs": [
    {
     "output_type": "stream",
     "name": "stdout",
     "text": "7\n"
    }
   ],
   "source": [
    "def carptop(a,b):\n",
    "    return a+b\n",
    "    return a*b\n",
    "print(carptop(3,4))"
   ]
  },
  {
   "cell_type": "code",
   "execution_count": 68,
   "metadata": {
    "tags": []
   },
   "outputs": [
    {
     "output_type": "stream",
     "name": "stdout",
     "text": "this is the absolute value\n"
    }
   ],
   "source": [
    "def absolute_value(num):\n",
    "    \"this is the absolute value\"\n",
    "    if num >= 0:\n",
    "        return num\n",
    "    else:\n",
    "        return -num\n",
    "print(absolute_value.__doc__)"
   ]
  },
  {
   "cell_type": "code",
   "execution_count": 1,
   "metadata": {
    "tags": []
   },
   "outputs": [
    {
     "output_type": "stream",
     "name": "stdout",
     "text": "371 is Armstrong Number\n"
    }
   ],
   "source": [
    "control_var = True\n",
    "while control_var:\n",
    "    i = input(\"Enter the number : \")\n",
    "    if '.' in i:\n",
    "        print(\"Please enter an integer number! \")\n",
    "        continue\n",
    "    elif i[0] == '-':\n",
    "        print(\"Please enter a positive number! \")\n",
    "        continue\n",
    "    elif not i.isdigit():\n",
    "        print(\"Please enter only numbers! \")\n",
    "        continue\n",
    "    else:\n",
    "        control_var = False\n",
    "n = len(i)\n",
    "toplam = 0\n",
    "for k in i:\n",
    "    x = int(k)**n\n",
    "    toplam += x\n",
    "if toplam == int(i):\n",
    "    print(f\"{i} is Armstrong Number\")\n",
    "else:\n",
    "    print(f\"{i} is not an Armstrong number\")"
   ]
  },
  {
   "cell_type": "code",
   "execution_count": null,
   "metadata": {},
   "outputs": [],
   "source": [
    "# a ssample of filter function\n",
    "letters = [\"a\", \"b\", \"c\", \"d\", \"e\", \"i\", \"j\", \"x\",\"t\"]\n",
    "def fltVowel(let) :\n",
    "    vowel ="
   ]
  },
  {
   "cell_type": "code",
   "execution_count": 6,
   "metadata": {},
   "outputs": [
    {
     "output_type": "execute_result",
     "data": {
      "text/plain": "[1, 9, 25]"
     },
     "metadata": {},
     "execution_count": 6
    }
   ],
   "source": [
    "#list method\n",
    "my_list = [1,2,3,4,5,6]\n",
    "[x ** 2 for x in my_list if x % 2 != 0]"
   ]
  },
  {
   "cell_type": "code",
   "execution_count": 7,
   "metadata": {},
   "outputs": [
    {
     "output_type": "execute_result",
     "data": {
      "text/plain": "[3, 4, 5]"
     },
     "metadata": {},
     "execution_count": 7
    }
   ],
   "source": [
    "strings = [\"ali\", \"veli\", \"kamil\"]\n",
    "[len(i) for i in strings]"
   ]
  },
  {
   "cell_type": "code",
   "execution_count": 8,
   "metadata": {},
   "outputs": [
    {
     "output_type": "execute_result",
     "data": {
      "text/plain": "<generator object <genexpr> at 0x000001EB5A3F00C8>"
     },
     "metadata": {},
     "execution_count": 8
    }
   ],
   "source": [
    "(x ** 2 for x in my_list)"
   ]
  },
  {
   "cell_type": "code",
   "execution_count": 10,
   "metadata": {
    "tags": []
   },
   "outputs": [
    {
     "output_type": "stream",
     "name": "stdout",
     "text": "('c', 'l', 'a', 'r', 'u', 's', 'w', 'a', 'y')\n"
    }
   ],
   "source": [
    "x = [i for i in \"clarusway\"]\n",
    "y = tuple(x)\n",
    "print(y)"
   ]
  },
  {
   "cell_type": "code",
   "execution_count": 12,
   "metadata": {},
   "outputs": [
    {
     "output_type": "execute_result",
     "data": {
      "text/plain": "['b', 'r', 'i', 'g', 'l', 'b', 'r', 'b', 'r']"
     },
     "metadata": {},
     "execution_count": 12
    }
   ],
   "source": [
    "[i for i in 'beri gel berber' if i != 'e' and i != \" \"]"
   ]
  },
  {
   "cell_type": "code",
   "execution_count": 3,
   "metadata": {
    "tags": []
   },
   "outputs": [
    {
     "output_type": "stream",
     "name": "stdout",
     "text": "0\n"
    }
   ],
   "source": [
    "number = int(input(\"Enter a positive number:  \"))\n",
    "sayac = 0\n",
    "while number > 0:\n",
    "    multi = number * (number-1)\n",
    "    number = number-1\n",
    "print(multi)\n"
   ]
  },
  {
   "cell_type": "code",
   "execution_count": 35,
   "metadata": {
    "tags": []
   },
   "outputs": [
    {
     "output_type": "stream",
     "name": "stdout",
     "text": "362880\n"
    }
   ],
   "source": [
    "number = int(input(\"Enter a positive number:  \"))\n",
    "fact = 1\n",
    "if number >= 0:\n",
    "    for i in range(1, number+1):\n",
    "        fact *= i\n",
    "    print(fact)\n",
    "else:print(\"write a positive number\")\n",
    "\n",
    "    "
   ]
  },
  {
   "cell_type": "code",
   "execution_count": 38,
   "metadata": {},
   "outputs": [
    {
     "output_type": "error",
     "ename": "SyntaxError",
     "evalue": "invalid syntax (<ipython-input-38-4d1a93a902a1>, line 2)",
     "traceback": [
      "\u001b[1;36m  File \u001b[1;32m\"<ipython-input-38-4d1a93a902a1>\"\u001b[1;36m, line \u001b[1;32m2\u001b[0m\n\u001b[1;33m    [1 *= i for i in range(1, number+1) if number >= 0]\u001b[0m\n\u001b[1;37m        ^\u001b[0m\n\u001b[1;31mSyntaxError\u001b[0m\u001b[1;31m:\u001b[0m invalid syntax\n"
     ]
    }
   ],
   "source": [
    "number = int(input(\"Enter a positive number:  \"))\n",
    "[1 *= i for i in range(1, number+1) if number >= 0]\n",
    "print(fact)\n",
    "#else:print(\"write a positive number\")"
   ]
  },
  {
   "cell_type": "code",
   "execution_count": 42,
   "metadata": {},
   "outputs": [
    {
     "output_type": "execute_result",
     "data": {
      "text/plain": "20"
     },
     "metadata": {},
     "execution_count": 42
    }
   ],
   "source": [
    "def sum_double(x, y):\n",
    "    if x > y or y > x:\n",
    "        return x+y\n",
    "    else:\n",
    "        return 2*(x+y)\n",
    "sum_double(5,5)"
   ]
  },
  {
   "cell_type": "code",
   "execution_count": 49,
   "metadata": {
    "tags": []
   },
   "outputs": [
    {
     "output_type": "stream",
     "name": "stdout",
     "text": "odd\n"
    }
   ],
   "source": [
    "print((lambda x: 'odd' if x%2!=0 else 'even')(3))\n"
   ]
  },
  {
   "cell_type": "code",
   "execution_count": 52,
   "metadata": {
    "tags": []
   },
   "outputs": [
    {
     "output_type": "stream",
     "name": "stdout",
     "text": "hellohellohello\n"
    }
   ],
   "source": [
    "echo_word = (lambda x,y: x * y)\n",
    "print(echo_word('hello',3))"
   ]
  },
  {
   "cell_type": "code",
   "execution_count": 70,
   "metadata": {
    "tags": []
   },
   "outputs": [
    {
     "output_type": "stream",
     "name": "stdout",
     "text": "yawsuralC\n"
    }
   ],
   "source": [
    "list = \"Clarusway\"\n",
    "x = [i for i in list]\n",
    "#print(x[::-1])\n",
    "reverse =\"\".join(reversed(x))\n",
    "print(reverse)"
   ]
  },
  {
   "cell_type": "code",
   "execution_count": 1,
   "metadata": {
    "tags": []
   },
   "outputs": [
    {
     "output_type": "stream",
     "name": "stdout",
     "text": "[3, 6, 9, 12, 15]\n"
    }
   ],
   "source": [
    "number_list = [1, 2, 3, 4, 5]\n",
    "\n",
    "result = list(map(lambda x:x*3 , number_list))\n",
    "print(result)"
   ]
  },
  {
   "cell_type": "code",
   "execution_count": 2,
   "metadata": {
    "tags": []
   },
   "outputs": [
    {
     "output_type": "stream",
     "name": "stdout",
     "text": "[6, 7, 8, 9, 10]\n"
    }
   ],
   "source": [
    "number_list = [1, 2, 3, 4, 5, 6, 7, 8, 9, 10]\n",
    "\n",
    "result = list(filter(lambda x: True if x >= 6 else False, number_list)) \n",
    "print(result)"
   ]
  },
  {
   "cell_type": "code",
   "execution_count": 19,
   "metadata": {
    "tags": []
   },
   "outputs": [
    {
     "output_type": "execute_result",
     "data": {
      "text/plain": "'ths wbst s fr lsrs ll!'"
     },
     "metadata": {},
     "execution_count": 19
    }
   ],
   "source": [
    "def disemvowel(string):\n",
    "    string = string.lower()\n",
    "    wovel = ('a','e','i','o','u')\n",
    "    for x in string:\n",
    "        if x in wovel:\n",
    "            string = string.replace(x, \"\")\n",
    "    return string \n",
    "string = \"This website is for losers LOL!\"\n",
    "disemvowel(string)\n"
   ]
  },
  {
   "cell_type": "code",
   "execution_count": 21,
   "metadata": {
    "tags": []
   },
   "outputs": [
    {
     "output_type": "stream",
     "name": "stdout",
     "text": "trky\n"
    }
   ],
   "source": [
    "def string_vowel(string):\n",
    "    string = string.lower() \n",
    "    vowels = ('a', 'e', 'i', 'o', 'u')  \n",
    "    for x in string: \n",
    "        if x in vowels: \n",
    "            string = string.replace(x, \"\") \n",
    "    print(string) \n",
    "string = \"TurkEy\"\n",
    "string_vowel(string)"
   ]
  },
  {
   "cell_type": "code",
   "execution_count": 20,
   "metadata": {
    "tags": []
   },
   "outputs": [
    {
     "output_type": "stream",
     "name": "stdout",
     "text": "Ths wbst s fr lsrs LOL!\n"
    }
   ],
   "source": [
    "def rem_vowel(string): \n",
    "    vowels = ('a', 'e', 'i', 'o', 'u')  \n",
    "    for x in string.lower(): \n",
    "        if x in vowels: \n",
    "            string = string.replace(x, \"\")\n",
    "    print(string)\n",
    "string = \"This website is for losers LOL!\"\n",
    "rem_vowel(string)"
   ]
  },
  {
   "cell_type": "code",
   "execution_count": 24,
   "metadata": {
    "tags": []
   },
   "outputs": [
    {
     "output_type": "stream",
     "name": "stdout",
     "text": "th\nH\nav\n"
    }
   ],
   "source": [
    "def middle_char(txt):\n",
    "   return txt[(len(txt)-1)//2 : (len(txt)+2)//2]\n",
    "print(middle_char(\"Python\"))\n",
    "print(middle_char(\"PHP\"))\n",
    "print(middle_char(\"Java\"))"
   ]
  },
  {
   "cell_type": "code",
   "execution_count": 28,
   "metadata": {},
   "outputs": [
    {
     "output_type": "execute_result",
     "data": {
      "text/plain": "3"
     },
     "metadata": {},
     "execution_count": 28
    }
   ],
   "source": [
    "def find_even_index(arr):\n",
    "  for i, x in enumerate(arr):\n",
    "    if sum(arr[0:i])==sum(arr[i+1:]):\n",
    "      return i\n",
    "  return -1\n",
    "  \n",
    "  \n",
    "find_even_index([1,2,3,4,3,2,1])"
   ]
  },
  {
   "cell_type": "code",
   "execution_count": null,
   "metadata": {},
   "outputs": [],
   "source": [
    "def count_sheeps(sheep):\n",
    "  return sum(bool(x) for x in sheep) \n",
    "  pass"
   ]
  },
  {
   "cell_type": "code",
   "execution_count": 2,
   "metadata": {
    "tags": []
   },
   "outputs": [
    {
     "output_type": "stream",
     "name": "stdout",
     "text": "i love you\n"
    }
   ],
   "source": [
    "a = \"i\"\n",
    "b = \"love\"\n",
    "c = \"you\"\n",
    "def texter(x, y , z):\n",
    "    print(f\"{y} {z} {x}\")\n",
    "texter(c, a, b)"
   ]
  },
  {
   "cell_type": "code",
   "execution_count": 5,
   "metadata": {
    "tags": []
   },
   "outputs": [
    {
     "output_type": "stream",
     "name": "stdout",
     "text": "-- This parrot wouldn't voom if you put 1000 volts through it.\n-- Lovely plumage, the Norwegian Blue\n-- It's a stiff !\n"
    }
   ],
   "source": [
    "def parrot(voltage, state='a stiff', action='voom', type='Norwegian Blue'):\n",
    "    print(\"-- This parrot wouldn't\", action, end=' ')\n",
    "    print(\"if you put\", voltage, \"volts through it.\")\n",
    "    print(\"-- Lovely plumage, the\", type)\n",
    "    print(\"-- It's\", state, \"!\")\n",
    "parrot(1000)"
   ]
  },
  {
   "cell_type": "code",
   "execution_count": 7,
   "metadata": {
    "tags": []
   },
   "outputs": [
    {
     "output_type": "stream",
     "name": "stdout",
     "text": "[2, 4, 6, 8]\n[1, 3, 5, 7, 9]\n"
    }
   ],
   "source": [
    "def slicer(*num):\n",
    "    even_list=[]\n",
    "    odd_list=[]\n",
    "    for i in num:\n",
    "        if i%2 == 0:\n",
    "            even_list.append(i)\n",
    "        else:\n",
    "            odd_list.append(i)\n",
    "    print(even_list)\n",
    "    print(odd_list)\n",
    "slicer(1,2,3,4,5,6,7,8,9)"
   ]
  },
  {
   "cell_type": "code",
   "execution_count": 8,
   "metadata": {
    "tags": []
   },
   "outputs": [
    {
     "output_type": "stream",
     "name": "stdout",
     "text": "['ahmet', 'mehmet', 'fatma']\n[33, 22, 44]\n"
    }
   ],
   "source": [
    "def organizer(**var):\n",
    "    name=[]\n",
    "    age = []\n",
    "    for key, value in var.items():\n",
    "        name.append(key)\n",
    "        age.append(value)\n",
    "    print(name)\n",
    "    print(age)\n",
    "organizer(ahmet=33, mehmet= 22, fatma = 44)\n"
   ]
  },
  {
   "cell_type": "code",
   "execution_count": 13,
   "metadata": {
    "tags": []
   },
   "outputs": [
    {
     "output_type": "stream",
     "name": "stdout",
     "text": "For me, Bill Gates and Guido van Rossum are geniuses\n"
    }
   ],
   "source": [
    "def merger(arg1,arg2,arg3,arg4):\n",
    "    print(f\"For me, {arg1} {arg4} and {arg3} {arg2} are geniuses\")\n",
    "genius =('Bill', 'Rossum','Guido van','Gates')\n",
    "merger(*genius)"
   ]
  },
  {
   "cell_type": "code",
   "execution_count": 18,
   "metadata": {},
   "outputs": [
    {
     "output_type": "execute_result",
     "data": {
      "text/plain": "35.333333333333336"
     },
     "metadata": {},
     "execution_count": 18
    }
   ],
   "source": [
    "def meaner(ahmet, mehmet, burhan):\n",
    "    avg = (ahmet + mehmet + burhan)/3\n",
    "    return(avg)\n",
    "friends = {\"ahmet\" : 44, \"mehmet\": 22, \"burhan\" : 40}\n",
    "meaner(**friends)"
   ]
  },
  {
   "cell_type": "code",
   "execution_count": 19,
   "metadata": {
    "tags": []
   },
   "outputs": [
    {
     "output_type": "stream",
     "name": "stdout",
     "text": "33\n"
    }
   ],
   "source": [
    "print(0xA + 0xB + 0xC)"
   ]
  },
  {
   "cell_type": "code",
   "execution_count": 22,
   "metadata": {
    "tags": []
   },
   "outputs": [
    {
     "output_type": "stream",
     "name": "stdout",
     "text": "o\n"
    }
   ],
   "source": [
    "str1 = \"hello\"\n",
    "str2 = \",\"\n",
    "str3 = \"world\"\n",
    "print(str1[-1:])\n",
    "str1 = \"world\""
   ]
  },
  {
   "cell_type": "code",
   "execution_count": 26,
   "metadata": {
    "tags": []
   },
   "outputs": [
    {
     "output_type": "stream",
     "name": "stdout",
     "text": "\\nhello\n"
    }
   ],
   "source": [
    "print(r\"\\nhello\")"
   ]
  },
  {
   "cell_type": "code",
   "execution_count": 27,
   "metadata": {
    "tags": []
   },
   "outputs": [
    {
     "output_type": "stream",
     "name": "stdout",
     "text": "newline\n"
    }
   ],
   "source": [
    "print(\"new\" \"line\")"
   ]
  },
  {
   "cell_type": "code",
   "execution_count": 29,
   "metadata": {
    "tags": []
   },
   "outputs": [
    {
     "output_type": "stream",
     "name": "stdout",
     "text": "newlineend 3\n"
    }
   ],
   "source": [
    "print(\"new\" \"line\" \"end\", 3)"
   ]
  },
  {
   "cell_type": "code",
   "execution_count": 30,
   "metadata": {
    "tags": []
   },
   "outputs": [
    {
     "output_type": "stream",
     "name": "stdout",
     "text": "yawusralc\n"
    }
   ],
   "source": [
    "str1 = \"clarsuway\"\n",
    "print(str1[::-1])"
   ]
  },
  {
   "cell_type": "code",
   "execution_count": null,
   "metadata": {},
   "outputs": [],
   "source": []
  }
 ],
 "metadata": {
  "language_info": {
   "codemirror_mode": {
    "name": "ipython",
    "version": 3
   },
   "file_extension": ".py",
   "mimetype": "text/x-python",
   "name": "python",
   "nbconvert_exporter": "python",
   "pygments_lexer": "ipython3",
   "version": "3.7.6-final"
  },
  "orig_nbformat": 2,
  "kernelspec": {
   "name": "python_defaultSpec_1595440408225",
   "display_name": "Python 3.7.6 64-bit ('base': conda)"
  }
 },
 "nbformat": 4,
 "nbformat_minor": 2
}