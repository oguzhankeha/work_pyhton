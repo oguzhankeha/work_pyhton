{
 "cells": [
  {
   "cell_type": "code",
   "execution_count": 1,
   "metadata": {
    "tags": []
   },
   "outputs": [
    {
     "output_type": "stream",
     "name": "stdout",
     "text": "You'll\tnever\twalk\talone.\n"
    }
   ],
   "source": [
    "print('You\\'ll', 'never', 'walk', 'alone.', sep=\"\\t\")"
   ]
  },
  {
   "cell_type": "code",
   "execution_count": 31,
   "metadata": {
    "tags": []
   },
   "outputs": [
    {
     "output_type": "stream",
     "name": "stdout",
     "text": "16\n[('coding', 80), ('math', 89)]\n{'coding': 80, 'math': 89}\n"
    }
   ],
   "source": [
    "school_records={\n",
    "    \"personal_info\":\n",
    "        {\"kid\":{\"tom\": {\"class\": \"intermediate\", \"age\": 10},\n",
    "                \"sue\": {\"class\": \"elementary\", \"age\": 8}\n",
    "               },\n",
    "         \"teen\":{\"joseph\":{\"class\": \"college\", \"age\": 19},\n",
    "                 \"marry\":{\"class\": \"high school\", \"age\": 16}\n",
    "               },               \n",
    "        },\n",
    "        \n",
    "    \"grades_info\":\n",
    "        {\"kid\":{\"tom\": {\"math\": 88, \"speech\": 69},\n",
    "                \"sue\": {\"math\": 90, \"speech\": 81}\n",
    "               },\n",
    "         \"teen\":{\"joseph\":{\"coding\": 80, \"math\": 89},\n",
    "                 \"marry\":{\"coding\": 70, \"math\": 96}\n",
    "               },               \n",
    "        },        \n",
    "}\n",
    "\n",
    "print(school_records['personal_info']['teen']['marry']['age'])\n",
    "print(list(school_records['grades_info']['teen']['joseph'].items()))\n",
    "print(school_records['grades_info']['teen']['joseph'])"
   ]
  },
  {
   "cell_type": "code",
   "execution_count": null,
   "metadata": {},
   "outputs": [],
   "source": [
    "dict_by_dict = {'planet': 'neptun',\n",
    "               'number': 40,\n",
    "               'pi': 3.14,\n",
    "               'is_good': True,\n",
    "               'is_bad': False}\n",
    "\n",
    "print('pi' in dict_by_dict) \n",
    "print('animal' not in dict_by_dict)"
   ]
  },
  {
   "cell_type": "code",
   "execution_count": 2,
   "metadata": {
    "tags": []
   },
   "outputs": [
    {
     "output_type": "stream",
     "name": "stdout",
     "text": "('A', 'l', 'p', 's')\n"
    }
   ],
   "source": [
    "mountain = tuple('Alps')\n",
    "print(mountain)"
   ]
  },
  {
   "cell_type": "code",
   "execution_count": 3,
   "metadata": {
    "tags": []
   },
   "outputs": [
    {
     "output_type": "stream",
     "name": "stdout",
     "text": "(1, 2, 3, 4, 5, 6, 7, 8, 9, 10)\n"
    }
   ],
   "source": [
    "print(tuple(range(1,11)))"
   ]
  },
  {
   "cell_type": "code",
   "execution_count": 4,
   "metadata": {
    "tags": []
   },
   "outputs": [
    {
     "output_type": "stream",
     "name": "stdout",
     "text": "range(1, 11)\n"
    }
   ],
   "source": [
    "number =(range(1,11))\n",
    "print(number)"
   ]
  },
  {
   "cell_type": "code",
   "execution_count": 5,
   "metadata": {
    "tags": []
   },
   "outputs": [
    {
     "output_type": "stream",
     "name": "stdout",
     "text": "range(1, 11)\n"
    }
   ],
   "source": [
    "number =range(1,11)\n",
    "print(number)"
   ]
  },
  {
   "cell_type": "code",
   "execution_count": 7,
   "metadata": {
    "tags": []
   },
   "outputs": [
    {
     "output_type": "stream",
     "name": "stdout",
     "text": "{'name1': 'Oguzhan', 'name2': 'Feyza', 'name3': 'Beyzanur', 'name4': 'Sema', 'name5': 'Rumeysa'}\n"
    }
   ],
   "source": [
    "family = {'name1': 'Oguzhan', 'name2': 'Feyza', 'name3': 'Beyzanur'}\n",
    "family['name4'] = 'Sema'\n",
    "family['name5'] = 'Rumeysa'\n",
    "print(family)"
   ]
  },
  {
   "cell_type": "code",
   "execution_count": 8,
   "metadata": {
    "tags": []
   },
   "outputs": [
    {
     "output_type": "stream",
     "name": "stdout",
     "text": "{'name1': 'Oguzhan', 'name2': 'Feyza', 'name3': 'Beyzanur', 'name4': 'Sema', 'name5': 'Rumeysa'}\n"
    }
   ],
   "source": [
    "family = dict(name1 = 'Oguzhan', name2 = 'Feyza', name3 = 'Beyzanur', name4 = 'Sema', name5 = 'Rumeysa')\n",
    "print(family)"
   ]
  },
  {
   "cell_type": "code",
   "execution_count": 9,
   "metadata": {},
   "outputs": [
    {
     "output_type": "error",
     "ename": "SyntaxError",
     "evalue": "keyword can't be an expression (<ipython-input-9-34d423c809cc>, line 1)",
     "traceback": [
      "\u001b[1;36m  File \u001b[1;32m\"<ipython-input-9-34d423c809cc>\"\u001b[1;36m, line \u001b[1;32m1\u001b[0m\n\u001b[1;33m    family = dict(1 = 'Oguzhan', 2 = 'Feyza', 3 = 'Beyzanur', 4 = 'Sema', 5 = 'Rumeysa')\u001b[0m\n\u001b[1;37m                 ^\u001b[0m\n\u001b[1;31mSyntaxError\u001b[0m\u001b[1;31m:\u001b[0m keyword can't be an expression\n"
     ]
    }
   ],
   "source": [
    "family = dict(1 = 'Oguzhan', 2 = 'Feyza', 3 = 'Beyzanur', 4 = 'Sema', 5 = 'Rumeysa')\n",
    "print(family)"
   ]
  },
  {
   "cell_type": "code",
   "execution_count": 13,
   "metadata": {
    "tags": []
   },
   "outputs": [
    {
     "output_type": "stream",
     "name": "stdout",
     "text": "{1: 'Oguzhan', 2: 'Feyza', 3: 'Beyzanur', 4: 'Sema', 5: 'Rumeysa'}\n"
    },
    {
     "output_type": "execute_result",
     "data": {
      "text/plain": "'Feyza'"
     },
     "metadata": {},
     "execution_count": 13
    }
   ],
   "source": [
    "family = {1 : 'Oguzhan', 2 : 'Feyza', 3 : 'Beyzanur', 4 : 'Sema', 5 : 'Rumeysa'}\n",
    "print(family)\n",
    "family[2]"
   ]
  },
  {
   "cell_type": "code",
   "execution_count": 28,
   "metadata": {
    "tags": []
   },
   "outputs": [
    {
     "output_type": "stream",
     "name": "stdout",
     "text": "dict_items([('name1', 'Oguzhan'), ('name2', 'Feyza'), ('name3', 'Beyzanur'), ('name4', 'Sema'), ('name5', 'Rumeysa')])\n[('name1', 'Oguzhan'), ('name2', 'Feyza'), ('name3', 'Beyzanur'), ('name4', 'Sema'), ('name5', 'Rumeysa')]\ndict_values(['Oguzhan', 'Feyza', 'Beyzanur', 'Sema', 'Rumeysa'])\n{'name1': 'Oguzhan', 'name2': 'Feyza', 'name3': 'Beyzanur', 'name4': 'Sema', 'name5': 'Rumeysa', 'name6': 'hakan'}\n{'name1': 'Oguzhan', 'name2': 'Feyza', 'name3': 'Beyzanur', 'name4': 'Sema', 'name5': 'Rumeysa'}\nTrue\nFalse\n"
    }
   ],
   "source": [
    "family = {'name1': 'Oguzhan', 'name2': 'Feyza', 'name3': 'Beyzanur', 'name4': 'Sema', 'name5': 'Rumeysa'}\n",
    "print(family.items())\n",
    "print(list(family.items()))\n",
    "list(family.keys())\n",
    "print(family.values())\n",
    "family.update({'name6':'hakan'})\n",
    "print(family)\n",
    "del family['name6']\n",
    "print(family)\n",
    "print('name1' in family)\n",
    "print('name2' not in family)"
   ]
  },
  {
   "cell_type": "code",
   "execution_count": 92,
   "metadata": {
    "tags": []
   },
   "outputs": [
    {
     "output_type": "stream",
     "name": "stdout",
     "text": "True\n"
    }
   ],
   "source": [
    "word = input(\"write a word:  \")\n",
    "a = set(word)\n",
    "left_hand = {'q', 'w', 'e', 'r', 't', 'a', 's', 'z', 'd', 'f', 'g', 'z', 'x', 'c', 'v', 'b'}\n",
    "right_hand = {'y', 'u', 'i', 'o', 'p', 'h','j', 'k', 'l', 'n', 'm'}\n",
    "x = (a - left_hand != set())\n",
    "y = (a - right_hand != set())\n",
    "print (x and y)\n"
   ]
  },
  {
   "cell_type": "code",
   "execution_count": 95,
   "metadata": {
    "tags": []
   },
   "outputs": [
    {
     "output_type": "stream",
     "name": "stdout",
     "text": "True\n"
    }
   ],
   "source": [
    "word = input(\"write a word:  \")\n",
    "a = set(word)\n",
    "left_hand = {'q', 'w', 'e', 'r', 't', 'a','s', 'z', 'd', 'f', 'g', 'x', 'c', 'v', 'b'}\n",
    "right_hand = {'y', 'u', 'i', 'o', 'p', 'h','j', 'k', 'l', 'n', 'm'}\n",
    "x = (a.difference(left_hand) != set())\n",
    "y = (a.difference(right_hand) != set())         #assignment 2 comfortable words\n",
    "print (x and y)"
   ]
  },
  {
   "cell_type": "code",
   "execution_count": 96,
   "metadata": {
    "tags": []
   },
   "outputs": [
    {
     "output_type": "stream",
     "name": "stdout",
     "text": "{'g', 'q', 't', 'f', 'r', 'd', 'a', 'c', 'b', 'w', 'v', 'z', 'x', 'e', 's'}\n"
    }
   ],
   "source": [
    "left = set('qwertgfdsazxcvb')\n",
    "print(left)"
   ]
  },
  {
   "cell_type": "code",
   "execution_count": 1,
   "metadata": {
    "tags": []
   },
   "outputs": [
    {
     "output_type": "stream",
     "name": "stdout",
     "text": "<class 'tuple'>\n"
    }
   ],
   "source": [
    "family_members = ['Meghan', 'Tom', 'Nicole', 'Tim']\n",
    "newfam = tuple(family_members)\n",
    "print(type(newfam)) "
   ]
  },
  {
   "cell_type": "code",
   "execution_count": 7,
   "metadata": {
    "tags": []
   },
   "outputs": [
    {
     "output_type": "stream",
     "name": "stdout",
     "text": "[]\n"
    }
   ],
   "source": [
    "numbers = [1, 3, 7, 4, 3, 0, 3, 6, 3]\n",
    "x = set(numbers)\n",
    "y = list(x)\n",
    "\n",
    "difference = list(set(numbers) - set(y))\n",
    "print(difference)\n"
   ]
  },
  {
   "cell_type": "code",
   "execution_count": null,
   "metadata": {},
   "outputs": [],
   "source": []
  },
  {
   "cell_type": "code",
   "execution_count": 15,
   "metadata": {
    "tags": []
   },
   "outputs": [
    {
     "output_type": "stream",
     "name": "stdout",
     "text": "3\n"
    }
   ],
   "source": [
    "numbers = [1, 3, 7, 4, 3, 0, 3, 6, 3]\n",
    "numbers_m = max(set(numbers), key = numbers.count)\n",
    "print(numbers_m)"
   ]
  },
  {
   "cell_type": "code",
   "execution_count": 3,
   "metadata": {
    "tags": []
   },
   "outputs": [
    {
     "output_type": "stream",
     "name": "stdout",
     "text": "there is still seat to sit\n"
    }
   ],
   "source": [
    "empty_seat = 14\n",
    "\n",
    "if empty_seat > 3:  # in this case, 14>3=True, so the body will execute\n",
    "    print('there is still seat to sit')"
   ]
  },
  {
   "cell_type": "code",
   "execution_count": 7,
   "metadata": {
    "tags": []
   },
   "outputs": [
    {
     "output_type": "stream",
     "name": "stdout",
     "text": "The number is equal or greater than 10\n"
    }
   ],
   "source": [
    "number = 23\n",
    "if number >= 10 :\n",
    "    print('The number is equal or greater than 10')\n",
    "else :\n",
    "    print('The number is less than 10')"
   ]
  },
  {
   "cell_type": "code",
   "execution_count": null,
   "metadata": {},
   "outputs": [],
   "source": [
    "audience_group = 'kid', 'teen', 'adult'\n",
    "\n",
    "audience = \"teen\"\n",
    "\n",
    "if audience in audience_group:\n",
    "    if audience == \"kid\":\n",
    "        print(\"it is free to go to cinema\")\n",
    "    elif audience == \"teen\":\n",
    "        print(\"discounted price!\")\n",
    "    else: # audience == \"adult\":\n",
    "        print(\"normal price\")\n",
    "else:\n",
    "    print(\"No such audience, stay at your home!\")\n"
   ]
  },
  {
   "cell_type": "code",
   "execution_count": 12,
   "metadata": {
    "tags": []
   },
   "outputs": [
    {
     "output_type": "stream",
     "name": "stdout",
     "text": "Your degree: B+\n"
    }
   ],
   "source": [
    "score = float (input(\"Enter your score :\"))\n",
    "\n",
    "if score >= 90:\n",
    "    if score >= 95:\n",
    "        Score_letter=\"A+\"\n",
    "    else:\n",
    "        Score_letter=\"A\"\n",
    "elif score >= 80:\n",
    "    if score >= 85:\n",
    "        Score_letter=\"B+\"\n",
    "    else:\n",
    "        Score_letter=\"B\"\n",
    "else:\n",
    "    Score_letter=\"below B\"\n",
    "\n",
    "print (\"Your degree:\", Score_letter)"
   ]
  },
  {
   "cell_type": "code",
   "execution_count": 13,
   "metadata": {
    "tags": []
   },
   "outputs": [
    {
     "output_type": "stream",
     "name": "stdout",
     "text": "{'g', 'u', 'k', 'x', 'v', 'c', 'r', 't', 'z', 'o', 'n', 'f', 'm', 'd', 'h', 'p', 'e', 'j', 'a', 'q', 'l', 's', 'i', 'y', 'w'}\n"
    }
   ],
   "source": [
    "x =(\"qazxswedcvfrtgnhyujmkiolp\")\n",
    "print(set(x))"
   ]
  },
  {
   "cell_type": "code",
   "execution_count": 18,
   "metadata": {
    "tags": []
   },
   "outputs": [
    {
     "output_type": "stream",
     "name": "stdout",
     "text": "[1, 2, 3, 4, 5, 6, 7, 8, 9, 10, 11, 12, 13]\n"
    }
   ],
   "source": [
    "y = (1,2,3,4,5,6,7,8,9,10,11,12,13)\n",
    "print(list(y))"
   ]
  },
  {
   "cell_type": "code",
   "execution_count": 20,
   "metadata": {
    "tags": []
   },
   "outputs": [
    {
     "output_type": "stream",
     "name": "stdout",
     "text": "{'2', '4', '/', '7', '0'}\n{'07/04/2020'}\n"
    }
   ],
   "source": [
    "day = \"07/04/2020\"\n",
    "day1 = {\"07/04/2020\"}\n",
    "print(set(day))\n",
    "print(day1)"
   ]
  },
  {
   "cell_type": "code",
   "execution_count": 21,
   "metadata": {
    "tags": []
   },
   "outputs": [
    {
     "output_type": "stream",
     "name": "stdout",
     "text": "{1, 2, 3, 4, 5}\n"
    }
   ],
   "source": [
    "given_list =[1,2,3,3,3,3,4,4,5,5]\n",
    "print(set(given_list))"
   ]
  },
  {
   "cell_type": "code",
   "execution_count": 23,
   "metadata": {
    "tags": []
   },
   "outputs": [
    {
     "output_type": "stream",
     "name": "stdout",
     "text": "{'s', 'a', 'h'}\n{'g', 'h', 's', 'i', 'e', 'o', 't', 'w', 'a', 'n', 'l'}\n{'g', 'i', 'w', 'o', 't', 'n'}\n"
    }
   ],
   "source": [
    "capital_usa = \"washington\"\n",
    "capital_newzealand = \"wellington\"\n",
    "x = set(capital_usa)\n",
    "y = set(capital_newzealand)\n",
    "print(x - y)\n",
    "print(x | y)\n",
    "print(x & y)"
   ]
  },
  {
   "cell_type": "code",
   "execution_count": 27,
   "metadata": {
    "tags": []
   },
   "outputs": [
    {
     "output_type": "stream",
     "name": "stdout",
     "text": "Bon apettit\n"
    }
   ],
   "source": [
    "minced = True\n",
    "bread = True\n",
    "lettuce = True\n",
    "pepper = False\n",
    "store = True\n",
    "hamburger = (minced and bread and store) and (lettuce or pepper)\n",
    "if hamburger:\n",
    "    print('Bon apettit')\n",
    "else:\n",
    "    print('you need extra ingredient')"
   ]
  },
  {
   "cell_type": "code",
   "execution_count": 29,
   "metadata": {},
   "outputs": [
    {
     "output_type": "execute_result",
     "data": {
      "text/plain": "False"
     },
     "metadata": {},
     "execution_count": 29
    }
   ],
   "source": [
    "1.0 == 1\n",
    "0 == []"
   ]
  },
  {
   "cell_type": "code",
   "execution_count": 30,
   "metadata": {},
   "outputs": [
    {
     "output_type": "execute_result",
     "data": {
      "text/plain": "True"
     },
     "metadata": {},
     "execution_count": 30
    }
   ],
   "source": [
    "\"\"\"\"\"\" == \"\""
   ]
  },
  {
   "cell_type": "code",
   "execution_count": 33,
   "metadata": {},
   "outputs": [
    {
     "output_type": "execute_result",
     "data": {
      "text/plain": "True"
     },
     "metadata": {},
     "execution_count": 33
    }
   ],
   "source": [
    "1**1 == 1**0"
   ]
  },
  {
   "cell_type": "code",
   "execution_count": 35,
   "metadata": {
    "tags": []
   },
   "outputs": [
    {
     "output_type": "stream",
     "name": "stdout",
     "text": "False\nTrue\n"
    }
   ],
   "source": [
    "x = 6\n",
    "y = 9\n",
    "print(x == y)\n",
    "print(x != y)"
   ]
  },
  {
   "cell_type": "code",
   "execution_count": 37,
   "metadata": {
    "tags": []
   },
   "outputs": [
    {
     "output_type": "stream",
     "name": "stdout",
     "text": "we are the same\n"
    }
   ],
   "source": [
    "x = \"TWELVE PLUS ONE\"\n",
    "y = \"ELEVEN PLUS TWO\"\n",
    "x1 = set(x)\n",
    "y1 = set(y)\n",
    "if x1 == y1:\n",
    "    print(\"we are the same\")"
   ]
  },
  {
   "cell_type": "code",
   "execution_count": 7,
   "metadata": {
    "tags": []
   },
   "outputs": [
    {
     "output_type": "stream",
     "name": "stdout",
     "text": "you entered True\n"
    }
   ],
   "source": [
    "x = input(\"enter yes or no\")\n",
    "if x == \"yes\":\n",
    "    print(\"you entered True\")\n",
    "else:\n",
    "    print(\"you entered False\")"
   ]
  },
  {
   "cell_type": "code",
   "execution_count": 47,
   "metadata": {
    "tags": []
   },
   "outputs": [
    {
     "output_type": "stream",
     "name": "stdout",
     "text": "You entered False\n"
    }
   ],
   "source": [
    "convert = input(\"Enter Yes or No : \").title().strip() == \"Yes\"\n",
    "print(\"You entered\", convert)"
   ]
  },
  {
   "cell_type": "code",
   "execution_count": 63,
   "metadata": {
    "tags": []
   },
   "outputs": [
    {
     "output_type": "stream",
     "name": "stdout",
     "text": "7 is odd\n"
    }
   ],
   "source": [
    "number = int(input('Enter even or odd number: '))\n",
    "if (number % 2) == 0:\n",
    "    print(\"{0} is even\".format(number))\n",
    "else:\n",
    "    print(\"{0} is odd\".format(number))              #buna bir bak"
   ]
  },
  {
   "cell_type": "code",
   "execution_count": 61,
   "metadata": {
    "tags": []
   },
   "outputs": [
    {
     "output_type": "stream",
     "name": "stdout",
     "text": "8 is even\n"
    }
   ],
   "source": [
    "number = int(input('Enter even or odd number: '))\n",
    "if (number % 2) == 0:\n",
    "    print(f\"{number} is even\")\n",
    "else:\n",
    "    print(f\"{number} is odd\") "
   ]
  },
  {
   "cell_type": "code",
   "execution_count": 52,
   "metadata": {
    "tags": []
   },
   "outputs": [
    {
     "output_type": "stream",
     "name": "stdout",
     "text": "the large number is:  6\n"
    }
   ],
   "source": [
    "a = int(input(\"Birinci sayıyı giriniz : \"))\n",
    "b = int(input(\"İkinci sayıyı giriniz : \"))\n",
    "if a>b:\n",
    "    print('the large number is: ', a)\n",
    "else:\n",
    "    print('the large number is: ', b)"
   ]
  },
  {
   "cell_type": "code",
   "execution_count": 53,
   "metadata": {
    "tags": []
   },
   "outputs": [
    {
     "output_type": "stream",
     "name": "stdout",
     "text": "yes\n"
    }
   ],
   "source": [
    "bool_val = True\n",
    "if bool_val:\n",
    "    print(\"yes\")\n",
    "else:\n",
    "    print(\"no\")"
   ]
  },
  {
   "cell_type": "code",
   "execution_count": 58,
   "metadata": {
    "tags": []
   },
   "outputs": [
    {
     "output_type": "stream",
     "name": "stdout",
     "text": "Large number is 786.0\n"
    }
   ],
   "source": [
    "x = float(input(\"Bir sayi girin: \"))\n",
    "y = float(input(\"Ikinci  farkli bir sayi girin: \"))\n",
    "z = float(input(\"Ucuncu bir sayi da girin; \"))\n",
    "if x > y and x > z :\n",
    "    largest = x\n",
    "elif y > x and y > z:\n",
    "    largest = y\n",
    "else :\n",
    "    largest = z\n",
    "print(\"Large number is\", largest)"
   ]
  },
  {
   "cell_type": "code",
   "execution_count": 2,
   "metadata": {
    "tags": []
   },
   "outputs": [
    {
     "output_type": "stream",
     "name": "stdout",
     "text": "the most frequent number is 3 and it was 4 times repeated\n"
    }
   ],
   "source": [
    "numbers = [1, 3, 7, 4, 3, 0, 3, 6, 3]\n",
    "freq_num = max(set(numbers), key = numbers.count)\n",
    "rep_num = numbers.count(freq_num)\n",
    "print(f\"the most frequent number is {freq_num} and it was {rep_num} times repeated\")"
   ]
  },
  {
   "cell_type": "code",
   "execution_count": 25,
   "metadata": {},
   "outputs": [
    {
     "output_type": "execute_result",
     "data": {
      "text/plain": "['addis ababa', 'istanbul', 'tokyo', 'roma']"
     },
     "metadata": {},
     "execution_count": 25
    }
   ],
   "source": [
    "sehir = [\"addis ababa\", \"tokyo\", \"roma\", \"istanbul\"]\n",
    "sorted(sehir, reverse = True, key = len)"
   ]
  },
  {
   "cell_type": "code",
   "execution_count": 1,
   "metadata": {
    "tags": []
   },
   "outputs": [
    {
     "output_type": "stream",
     "name": "stdout",
     "text": "Hello,Klkl! See you later.\n"
    }
   ],
   "source": [
    "pasword = input(\"Enter your name : \").title().strip() #== \"Joseph\"\n",
    "if pasword == \"Joseph\":\n",
    "    print(f\"Hello,{pasword}!The password is :W@12\")\n",
    "else:\n",
    "    print(f\"Hello,{pasword}! See you later.\")\n",
    "    "
   ]
  },
  {
   "cell_type": "code",
   "execution_count": 26,
   "metadata": {},
   "outputs": [
    {
     "output_type": "execute_result",
     "data": {
      "text/plain": "4"
     },
     "metadata": {},
     "execution_count": 26
    }
   ],
   "source": [
    "samanlik = [\"yumurta\", \"saman\", \"tirpan\", \"tezek\",\"igne\", \"inek\",\"su\",\"tavuk\"]\n",
    "samanlik.index(\"igne\")"
   ]
  },
  {
   "cell_type": "code",
   "execution_count": 27,
   "metadata": {
    "tags": []
   },
   "outputs": [
    {
     "output_type": "stream",
     "name": "stdout",
     "text": "five\n5\nTrue\n"
    }
   ],
   "source": [
    "v = (\"five\", 5, True)\n",
    "x, y, z = v\n",
    "print(x, y, z, sep=\"\\n\")"
   ]
  },
  {
   "cell_type": "code",
   "execution_count": 29,
   "metadata": {},
   "outputs": [
    {
     "output_type": "execute_result",
     "data": {
      "text/plain": "2"
     },
     "metadata": {},
     "execution_count": 29
    }
   ],
   "source": [
    "(monday, tuesday, wednesday, thursday,friday, saturday, sunday) = tuple(range(1, 8))\n",
    "tuesday"
   ]
  },
  {
   "cell_type": "code",
   "execution_count": 30,
   "metadata": {},
   "outputs": [
    {
     "output_type": "execute_result",
     "data": {
      "text/plain": "[1, 2, 3, 4, '11', '22', 33]"
     },
     "metadata": {},
     "execution_count": 30
    }
   ],
   "source": [
    "[1, 2, 3, 4] + [\"11\",\"22\", 33]"
   ]
  },
  {
   "cell_type": "code",
   "execution_count": 35,
   "metadata": {
    "tags": []
   },
   "outputs": [
    {
     "output_type": "stream",
     "name": "stdout",
     "text": "(1, 2, [1, 3, 5, '1'])\n"
    }
   ],
   "source": [
    "tt = (1, 2, [1, 3, 5])\n",
    "tt[2].append(\"1\")\n",
    "print(tt)"
   ]
  },
  {
   "cell_type": "code",
   "execution_count": 37,
   "metadata": {
    "tags": []
   },
   "outputs": [
    {
     "output_type": "stream",
     "name": "stdout",
     "text": "10\n20\n"
    }
   ],
   "source": [
    "items = (10, 20)\n",
    "x, y = items\n",
    "print(x)\n",
    "print(y)"
   ]
  },
  {
   "cell_type": "code",
   "execution_count": 39,
   "metadata": {
    "tags": []
   },
   "outputs": [
    {
     "output_type": "stream",
     "name": "stdout",
     "text": "10 30\n40\n"
    }
   ],
   "source": [
    "a, _, b, _ =(10, 20, 30, 40)\n",
    "print(a, b)\n",
    "print(_)"
   ]
  },
  {
   "cell_type": "code",
   "execution_count": 48,
   "metadata": {
    "tags": []
   },
   "outputs": [
    {
     "output_type": "stream",
     "name": "stdout",
     "text": "11\n22\n[33, 44, 55, 66]\n"
    }
   ],
   "source": [
    "x, y, *z = (11, 22, 33, 44, 55, 66)\n",
    "print(x)\n",
    "print(y)\n",
    "print(z)"
   ]
  },
  {
   "cell_type": "code",
   "execution_count": 49,
   "metadata": {
    "tags": []
   },
   "outputs": [
    {
     "output_type": "stream",
     "name": "stdout",
     "text": "11\n22\n[33, 44, 55, 66]\n"
    }
   ],
   "source": [
    "x, y, *_ = (11, 22, 33, 44, 55, 66)\n",
    "print(x)\n",
    "print(y)\n",
    "print(z)\n"
   ]
  },
  {
   "cell_type": "code",
   "execution_count": 43,
   "metadata": {
    "tags": []
   },
   "outputs": [
    {
     "output_type": "stream",
     "name": "stdout",
     "text": "[33, 44, 55]\n66\n"
    }
   ],
   "source": [
    "x, y, *z, t = (11, 22, 33, 44, 55, 66)\n",
    "print(z)\n",
    "print(t)\n"
   ]
  },
  {
   "cell_type": "code",
   "execution_count": 54,
   "metadata": {
    "tags": []
   },
   "outputs": [
    {
     "output_type": "stream",
     "name": "stdout",
     "text": "10,100,000,000\n"
    }
   ],
   "source": [
    "no1 = 10_000_000_000\n",
    "no2 = 100_000_000\n",
    "#print (no1 + no2)\n",
    "add = no1 +no2\n",
    "print(f\"{add:,}\")"
   ]
  },
  {
   "cell_type": "code",
   "execution_count": 1,
   "metadata": {
    "tags": []
   },
   "outputs": [
    {
     "output_type": "stream",
     "name": "stdout",
     "text": "0\n1\n2\n3\n4\n5\nnow, number is bigger or equal to 6\n"
    }
   ],
   "source": [
    "number = 0\n",
    "\n",
    "while number < 6:\n",
    "    print(number)\n",
    "    number += 1\n",
    "print('now, number is bigger or equal to 6')"
   ]
  },
  {
   "cell_type": "code",
   "execution_count": null,
   "metadata": {},
   "outputs": [],
   "source": [
    "number = int(input('Please enter a number: '))\n",
    "while number < 3:\n",
    "    print)(number **2)\n",
    "    number -= 1"
   ]
  },
  {
   "cell_type": "code",
   "execution_count": 3,
   "metadata": {
    "tags": []
   },
   "outputs": [
    {
     "output_type": "stream",
     "name": "stdout",
     "text": "Tulip\nOrchid\nRose\n"
    }
   ],
   "source": [
    "flowers = ['Rose', 'Orchid', 'Tulip']\n",
    "count1 = len(flowers)\n",
    "count2 = ...\n",
    "\n",
    "while count1 > 0 :\n",
    "    print(flowers[count1-1])\n",
    "    count1-= 1\n",
    "    "
   ]
  },
  {
   "cell_type": "code",
   "execution_count": 13,
   "metadata": {
    "tags": []
   },
   "outputs": [
    {
     "output_type": "stream",
     "name": "stdout",
     "text": "Rose\nOrchid\nTulip\n"
    }
   ],
   "source": [
    "flowers = ['Rose', 'Orchid', 'Tulip']\n",
    "count1 = len(flowers)\n",
    "count2 = 0\n",
    "\n",
    "while count2 < count1 :\n",
    "    print(flowers[count2])\n",
    "    count2 += 1"
   ]
  },
  {
   "cell_type": "code",
   "execution_count": 7,
   "metadata": {
    "tags": []
   },
   "outputs": [
    {
     "output_type": "stream",
     "name": "stdout",
     "text": "Rose\nOrchid\nTulip\n"
    }
   ],
   "source": [
    "for i in ['Rose', 'Orchid', 'Tulip']:\n",
    "    print(i)"
   ]
  },
  {
   "cell_type": "code",
   "execution_count": 8,
   "metadata": {
    "tags": []
   },
   "outputs": [
    {
     "output_type": "stream",
     "name": "stdout",
     "text": "n1\nn2\n"
    }
   ],
   "source": [
    "for i in {'n1' : 'one', 'n2' : 'two'} : \n",
    "    print(i)"
   ]
  },
  {
   "cell_type": "code",
   "execution_count": 11,
   "metadata": {
    "tags": []
   },
   "outputs": [
    {
     "output_type": "stream",
     "name": "stdout",
     "text": "1\n4\n9\n16\n"
    }
   ],
   "source": [
    "iterable = [1, 2, 3, 4]\n",
    "for i in iterable:\n",
    "    print(i**2)"
   ]
  },
  {
   "cell_type": "code",
   "execution_count": 12,
   "metadata": {
    "tags": []
   },
   "outputs": [
    {
     "output_type": "stream",
     "name": "stdout",
     "text": "9x0 =  0\n9x1 =  9\n9x2 =  18\n9x3 =  27\n9x4 =  36\n9x5 =  45\n9x6 =  54\n9x7 =  63\n9x8 =  72\n9x9 =  81\n9x10 =  90\n"
    }
   ],
   "source": [
    "n = int(input('enter a number between 1-10'))\n",
    "\n",
    "for i in range(11):\n",
    "    print('{}x{} = '.format(n, i), n*i)\n"
   ]
  },
  {
   "cell_type": "code",
   "execution_count": 14,
   "metadata": {
    "tags": []
   },
   "outputs": [
    {
     "output_type": "stream",
     "name": "stdout",
     "text": "I will stop smoking\nI will stop smoking\nI will stop smoking\nI will stop smoking\nI will stop smoking\n"
    }
   ],
   "source": [
    "a = 3\n",
    "while a**2 < 299:\n",
    "    print('I will stop smoking')\n",
    "    a += 3"
   ]
  },
  {
   "cell_type": "code",
   "execution_count": 21,
   "metadata": {
    "tags": []
   },
   "outputs": [
    {
     "output_type": "stream",
     "name": "stdout",
     "text": "Yippee! You can buy your PS4\n"
    }
   ],
   "source": [
    "saved_amount = int(input('Please enter your saved amount: '))\n",
    "ps4_price = 200\n",
    "if saved_amount >= ps4_price:\n",
    "    print(\"Yippee! You can buy your PS4\")\n",
    "elif saved_amount <= ps4_price/2:\n",
    "    print(\"You must save more, keep saving!\")\n",
    "elif saved_amount > ps4_price/2:\n",
    "    print(\"You saved more than half, keep saving!\")\n"
   ]
  },
  {
   "cell_type": "code",
   "execution_count": 24,
   "metadata": {
    "tags": []
   },
   "outputs": [
    {
     "output_type": "stream",
     "name": "stdout",
     "text": "D (Not Bad)\n"
    }
   ],
   "source": [
    "math_mark = int(input('Please enter the mark: '))\n",
    "\n",
    "if math_mark >= 85:\n",
    "    Score = \"A (Excellent)\"  \n",
    "elif math_mark >= 70:\n",
    "    Score =\"B (Good)\"\n",
    "elif math_mark >= 60:\n",
    "    Score = \"C (Medium)\"\n",
    "elif math_mark >= 45:\n",
    "    Score = \"D (Not Bad)\"  \n",
    "else:\n",
    "    Score = \"F (Failed)\"\n",
    "\n",
    "print (f\"{Score}\")\n"
   ]
  },
  {
   "cell_type": "code",
   "execution_count": 1,
   "metadata": {
    "tags": []
   },
   "outputs": [
    {
     "output_type": "stream",
     "name": "stdout",
     "text": "1996\n"
    }
   ],
   "source": [
    "a = 998\n",
    "if a >= 999 :\n",
    "    print(a ** 0)  \n",
    "\n",
    "else :\n",
    "    print(a * 2)"
   ]
  },
  {
   "cell_type": "code",
   "execution_count": 4,
   "metadata": {
    "tags": []
   },
   "outputs": [
    {
     "output_type": "stream",
     "name": "stdout",
     "text": "Day 1 : Monday\nDay 2 : Tuesday\nDay 3 : Wednesday\nDay 4 : Thursday\nDay 5 : Friday\n"
    }
   ],
   "source": [
    "weekdays = ['Monday', 'Tuesday', 'Wednesday', 'Thursday', 'Friday']\n",
    "for day in range(len(weekdays)):\n",
    "    print('Day', day+1, ':', weekdays[day])"
   ]
  }
 ],
 "metadata": {
  "language_info": {
   "codemirror_mode": {
    "name": "ipython",
    "version": 3
   },
   "file_extension": ".py",
   "mimetype": "text/x-python",
   "name": "python",
   "nbconvert_exporter": "python",
   "pygments_lexer": "ipython3",
   "version": "3.7.6-final"
  },
  "orig_nbformat": 2,
  "kernelspec": {
   "name": "python_defaultSpec_1594036654900",
   "display_name": "Python 3.7.6 64-bit ('base': conda)"
  }
 },
 "nbformat": 4,
 "nbformat_minor": 2
}