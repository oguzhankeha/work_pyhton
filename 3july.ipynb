{
 "cells": [
  {
   "cell_type": "code",
   "execution_count": 14,
   "metadata": {
    "tags": []
   },
   "outputs": [
    {
     "output_type": "error",
     "ename": "TypeError",
     "evalue": "'int' object is not iterable",
     "traceback": [
      "\u001b[1;31m---------------------------------------------------------------------------\u001b[0m",
      "\u001b[1;31mTypeError\u001b[0m                                 Traceback (most recent call last)",
      "\u001b[1;32m<ipython-input-14-741a81d29f10>\u001b[0m in \u001b[0;36m<module>\u001b[1;34m\u001b[0m\n\u001b[0;32m      4\u001b[0m     \u001b[0mz\u001b[0m \u001b[1;33m=\u001b[0m \u001b[0mlen\u001b[0m\u001b[1;33m(\u001b[0m\u001b[0mset\u001b[0m\u001b[1;33m(\u001b[0m\u001b[0mi\u001b[0m\u001b[1;33m)\u001b[0m\u001b[1;33m)\u001b[0m\u001b[1;33m\u001b[0m\u001b[1;33m\u001b[0m\u001b[0m\n\u001b[0;32m      5\u001b[0m     \u001b[0mx\u001b[0m \u001b[1;33m=\u001b[0m \u001b[0mint\u001b[0m\u001b[1;33m(\u001b[0m\u001b[0mi\u001b[0m\u001b[1;33m)\u001b[0m\u001b[1;33m\u001b[0m\u001b[1;33m\u001b[0m\u001b[0m\n\u001b[1;32m----> 6\u001b[1;33m \u001b[1;32mif\u001b[0m \u001b[0mx\u001b[0m \u001b[1;33m==\u001b[0m \u001b[0msum\u001b[0m\u001b[1;33m(\u001b[0m\u001b[0mt\u001b[0m\u001b[1;33m**\u001b[0m\u001b[0mz\u001b[0m\u001b[1;33m)\u001b[0m\u001b[1;33m:\u001b[0m\u001b[1;33m\u001b[0m\u001b[1;33m\u001b[0m\u001b[0m\n\u001b[0m\u001b[0;32m      7\u001b[0m     \u001b[0mprint\u001b[0m\u001b[1;33m(\u001b[0m\u001b[1;34m\"ok\"\u001b[0m\u001b[1;33m)\u001b[0m\u001b[1;33m\u001b[0m\u001b[1;33m\u001b[0m\u001b[0m\n",
      "\u001b[1;31mTypeError\u001b[0m: 'int' object is not iterable"
     ]
    }
   ],
   "source": [
    "i = input(\"enter number:  \")\n",
    "for k in i:\n",
    "    #t = int(k)\n",
    "    z = len(set(i))\n",
    "    x = int(i)\n",
    "if x == sum(t**z):\n",
    "    print(\"ok\")\n"
   ]
  },
  {
   "cell_type": "code",
   "execution_count": 4,
   "metadata": {
    "tags": []
   },
   "outputs": [],
   "source": [
    "x = \"7\"\n",
    "y = int(x)\n",
    "for i in x:\n",
    "    if y == int(i)**2:\n",
    "         print(\"ok\")"
   ]
  },
  {
   "cell_type": "code",
   "execution_count": 3,
   "metadata": {
    "tags": []
   },
   "outputs": [
    {
     "output_type": "stream",
     "name": "stdout",
     "text": "9\n9\n"
    }
   ],
   "source": [
    "i = input(\"enter number:  \")\n",
    "for k in i:\n",
    "    x = int(k)**2\n",
    "    print(x)\n",
    "        \n",
    "   \n",
    "    "
   ]
  },
  {
   "cell_type": "code",
   "execution_count": 4,
   "metadata": {
    "tags": []
   },
   "outputs": [
    {
     "output_type": "stream",
     "name": "stdout",
     "text": "Armstrong Number\n"
    }
   ],
   "source": [
    "i = input(\"enter number:  \")\n",
    "n = len(i)\n",
    "toplam = 0\n",
    "for k in i:\n",
    "    x = int(k)**n\n",
    "    toplam += x\n",
    "if toplam == int(i):\n",
    "    print(\"Armstrong Number\")\n",
    "else:\n",
    "    print(\"this is not\")"
   ]
  },
  {
   "cell_type": "code",
   "execution_count": null,
   "metadata": {},
   "outputs": [],
   "source": [
    "age = input(\"enter age\")\n",
    "while not age.isnumeric():\n",
    "    print(\"incorrect enterence\")\n",
    "    age = input(\"Please enter your age: \")\n",
    "print(f\"Super, your age is {age}\")"
   ]
  },
  {
   "cell_type": "code",
   "execution_count": 3,
   "metadata": {},
   "outputs": [
    {
     "output_type": "error",
     "ename": "TypeError",
     "evalue": "'>' not supported between instances of 'str' and 'int'",
     "traceback": [
      "\u001b[1;31m---------------------------------------------------------------------------\u001b[0m",
      "\u001b[1;31mTypeError\u001b[0m                                 Traceback (most recent call last)",
      "\u001b[1;32m<ipython-input-3-522a1a731db9>\u001b[0m in \u001b[0;36m<module>\u001b[1;34m\u001b[0m\n\u001b[0;32m      2\u001b[0m \u001b[1;33m\u001b[0m\u001b[0m\n\u001b[0;32m      3\u001b[0m \u001b[0mnumber\u001b[0m \u001b[1;33m=\u001b[0m \u001b[1;36m27\u001b[0m\u001b[1;33m\u001b[0m\u001b[1;33m\u001b[0m\u001b[0m\n\u001b[1;32m----> 4\u001b[1;33m \u001b[1;32mwhile\u001b[0m \u001b[0mx\u001b[0m \u001b[1;33m>\u001b[0m \u001b[0mnumber\u001b[0m\u001b[1;33m:\u001b[0m\u001b[1;33m\u001b[0m\u001b[1;33m\u001b[0m\u001b[0m\n\u001b[0m\u001b[0;32m      5\u001b[0m     \u001b[0mprint\u001b[0m\u001b[1;33m(\u001b[0m\u001b[1;34m\"down\"\u001b[0m\u001b[1;33m)\u001b[0m\u001b[1;33m\u001b[0m\u001b[1;33m\u001b[0m\u001b[0m\n\u001b[0;32m      6\u001b[0m \u001b[0mx\u001b[0m \u001b[1;33m=\u001b[0m \u001b[0minput\u001b[0m\u001b[1;33m(\u001b[0m\u001b[1;34m\"guess gain number\"\u001b[0m\u001b[1;33m)\u001b[0m\u001b[1;33m\u001b[0m\u001b[1;33m\u001b[0m\u001b[0m\n",
      "\u001b[1;31mTypeError\u001b[0m: '>' not supported between instances of 'str' and 'int'"
     ]
    }
   ],
   "source": [
    "x = input(\"guess a number\")\n",
    "\n",
    "number = 27\n",
    "while x > number:\n",
    "    print(\"down\")\n",
    "x = input(\"guess gain number\")\n",
    "while x < 27:\n",
    "    x < number\n",
    "    print(\"higher\")\n",
    "while x == 27:\n",
    "    print(\"ok\")\n"
   ]
  },
  {
   "cell_type": "code",
   "execution_count": 4,
   "metadata": {
    "tags": []
   },
   "outputs": [
    {
     "output_type": "stream",
     "name": "stdout",
     "text": "tebrikler\n"
    }
   ],
   "source": [
    "number = 35\n",
    "while True:\n",
    "    deger = int(input(\"write a number\"))\n",
    "    if deger < number:\n",
    "        print(\"yukari\")\n",
    "    elif deger > number:\n",
    "        print(\"asagi\")\n",
    "    else:\n",
    "        print(\"tebrikler\")\n",
    "        break"
   ]
  },
  {
   "cell_type": "code",
   "execution_count": 8,
   "metadata": {
    "tags": []
   },
   "outputs": [
    {
     "output_type": "stream",
     "name": "stdout",
     "text": "selam kardesim\n8\n"
    }
   ],
   "source": [
    "sentence = input(\"Give me a sentence:  \")\n",
    "word_list = sentence.split(\" \")\n",
    "i = 0\n",
    "longest = 0\n",
    "while i <= (len(word_list)-1):\n",
    "    if len(word_list[i]) > longest:\n",
    "        longest = len(word_list[i])\n",
    "    i += 1\n",
    "print(sentence, longest, sep=\"\\n\")"
   ]
  },
  {
   "cell_type": "code",
   "execution_count": null,
   "metadata": {},
   "outputs": [],
   "source": [
    "sentence = input(\"Write a sentence\")\n",
    "counter = len(sentence) - 1\n",
    "i = 0\n",
    "a = 0\n",
    "words = []\n",
    "while i < counter:\n",
    "    if sentence[i] == \" \":\n",
    "        words.append(sentence[a:i])\n",
    "        a = i+1\n",
    "    i +=1\n",
    "words.append(sentence[a:])\n",
    "print(sentence, max(words, key = len), sep = \"\\n\")"
   ]
  },
  {
   "cell_type": "code",
   "execution_count": 11,
   "metadata": {
    "tags": []
   },
   "outputs": [
    {
     "output_type": "stream",
     "name": "stdout",
     "text": "hello ahmad\nhello aisha\nhello Adam\nhello Joseph\nhello Gabriel\n"
    }
   ],
   "source": [
    "names = [\"ahmad\", \"aisha\", \"Adam\", \"Joseph\",\"Gabriel\"]\n",
    "\n",
    "for i in names:\n",
    "    print(\"hello\", i)"
   ]
  },
  {
   "cell_type": "code",
   "execution_count": 15,
   "metadata": {
    "tags": []
   },
   "outputs": [
    {
     "output_type": "stream",
     "name": "stdout",
     "text": "[1, 2, 3, 4, 5]\n"
    }
   ],
   "source": [
    "num = []\n",
    "for i in range(1, 6):\n",
    "    num.append(i)\n",
    "print(num)"
   ]
  },
  {
   "cell_type": "code",
   "execution_count": 4,
   "metadata": {
    "tags": []
   },
   "outputs": [
    {
     "output_type": "stream",
     "name": "stdout",
     "text": "key:  a Value:  b\nkey:  d Value:  e\n"
    }
   ],
   "source": [
    "userx=[('a','b','c'),('d','e','f')]\n",
    "for x, y,z in userx:\n",
    "    print(\"key: \",x,\"Value: \",y)"
   ]
  },
  {
   "cell_type": "code",
   "execution_count": 5,
   "metadata": {
    "tags": []
   },
   "outputs": [
    {
     "output_type": "stream",
     "name": "stdout",
     "text": "1 / [2, 3, 7, 8]\n4 / [5, 6, 9, 4]\n"
    }
   ],
   "source": [
    "list = [(1,2,3,7,8),(4,5,6,9,4)]\n",
    "for i,*j in list:\n",
    "    print(i,\"/\",j)"
   ]
  },
  {
   "cell_type": "code",
   "execution_count": 23,
   "metadata": {
    "tags": []
   },
   "outputs": [
    {
     "output_type": "stream",
     "name": "stdout",
     "text": "67 is not an Armstrong number\n"
    }
   ],
   "source": [
    "\n",
    "control_var = True\n",
    "while control_var:\n",
    "    i = input(\"Enter the number : \")\n",
    "    if '.' in i:\n",
    "        print(\"Please enter an integer number! \")\n",
    "        continue\n",
    "    elif i[0] == '-':\n",
    "        print(\"Please enter a positive number! \")\n",
    "        continue\n",
    "    elif not i.isdigit():\n",
    "        print(\"Please enter only numbers! \")\n",
    "        continue\n",
    "    else:\n",
    "        control_var = False\n",
    "n = len(i)\n",
    "toplam = 0\n",
    "for k in i:\n",
    "    x = int(k)**n\n",
    "    toplam += x\n",
    "if toplam == int(i):\n",
    "    print(f\"{i} is Armstrong Number\")\n",
    "else:\n",
    "    print(f\"{i} is not an Armstrong number\")"
   ]
  },
  {
   "cell_type": "code",
   "execution_count": 13,
   "metadata": {
    "tags": []
   },
   "outputs": [
    {
     "output_type": "stream",
     "name": "stdout",
     "text": "20 is not divisible 7 and 3\n"
    }
   ],
   "source": [
    "number = int(input(\"give me a number\"))\n",
    "if number%7  == 0 and number%3 == 0:\n",
    "    print(f\"{number} can devide 3 and 7\" )\n",
    "elif number%7  == 0 and number%3 != 0:\n",
    "    print(f\"{number} is just devide 7\")\n",
    "else:\n",
    "    print(f\"{number} is not divisible 7 and 3\")"
   ]
  },
  {
   "cell_type": "code",
   "execution_count": 3,
   "metadata": {
    "tags": []
   },
   "outputs": [
    {
     "output_type": "stream",
     "name": "stdout",
     "text": "5x0 = 0\n5x1 = 5\n5x2 = 10\n5x3 = 15\n5x4 = 20\n5x5 = 25\n5x6 = 30\n5x7 = 35\n5x8 = 40\n5x9 = 45\n"
    }
   ],
   "source": [
    "x = int(input(\"give me the number\"))\n",
    "for i in range(11):\n",
    "    print(f\"{x}x{i} = {x*i}\")"
   ]
  },
  {
   "cell_type": "code",
   "execution_count": 12,
   "metadata": {
    "tags": []
   },
   "outputs": [
    {
     "output_type": "stream",
     "name": "stdout",
     "text": "-10 -8 -6 -4\n-2 -4 -6 -8\n"
    }
   ],
   "source": [
    "print(*range(-10,-2,2))\n",
    "print(*range(-2,-10,-2))"
   ]
  },
  {
   "cell_type": "code",
   "execution_count": 19,
   "metadata": {
    "tags": []
   },
   "outputs": [
    {
     "output_type": "stream",
     "name": "stdout",
     "text": "one : 1\n[('one', '1'), ('two', '2'), ('three', '3'), ('four', '4'), ('five', '5')]\ntwo : 2\n[('one', '1'), ('two', '2'), ('three', '3'), ('four', '4'), ('five', '5')]\nthree : 3\n[('one', '1'), ('two', '2'), ('three', '3'), ('four', '4'), ('five', '5')]\nfour : 4\n[('one', '1'), ('two', '2'), ('three', '3'), ('four', '4'), ('five', '5')]\nfive : 5\n[('one', '1'), ('two', '2'), ('three', '3'), ('four', '4'), ('five', '5')]\n"
    }
   ],
   "source": [
    "text = ['one','two','three','four','five']\n",
    "numbers = list('12345')\n",
    "for x, y in zip(text, numbers):\n",
    "    print(x, ':', y)\n",
    "    print(list(zip(text, numbers)))"
   ]
  },
  {
   "cell_type": "code",
   "execution_count": 22,
   "metadata": {
    "tags": []
   },
   "outputs": [
    {
     "output_type": "stream",
     "name": "stdout",
     "text": "0\n2\n4\n6\n8\n10\n"
    }
   ],
   "source": [
    "number = list(range(11))\n",
    "for i in number:\n",
    "    if i%2 == 0:\n",
    "        print(i)\n",
    "    "
   ]
  },
  {
   "cell_type": "code",
   "execution_count": 23,
   "metadata": {
    "tags": []
   },
   "outputs": [
    {
     "output_type": "stream",
     "name": "stdout",
     "text": "evens:  [0, 2, 4, 6, 8, 10]\nodds:  [1, 3, 5, 7, 9]\n"
    }
   ],
   "source": [
    "even = []\n",
    "odd = []\n",
    "for i in range(11):\n",
    "    if i % 2:\n",
    "        odd.append(i)\n",
    "    else:\n",
    "        even.append(i)\n",
    "print(\"evens: \", even)\n",
    "print(\"odds: \", odd)"
   ]
  },
  {
   "cell_type": "code",
   "execution_count": null,
   "metadata": {},
   "outputs": [],
   "source": [
    "ex = [11,2,24,61,48,33,3]\n",
    "even = 0\n",
    "odd = 0\n",
    "for i in ex:\n",
    "    if i % 2 == 0:\n",
    "        even += 1\n",
    "    else:\n",
    "        odd += 1\n",
    "print(\"The numbers of even numbers :{}\\nThe number of odd numbers :{}\".forma"
   ]
  },
  {
   "cell_type": "code",
   "execution_count": 24,
   "metadata": {
    "tags": []
   },
   "outputs": [
    {
     "output_type": "stream",
     "name": "stdout",
     "text": "the number of even numbers : 3\nthe number of odd numbers : 4\n"
    }
   ],
   "source": [
    "list = [11, 2, 24, 61, 48, 33, 3]\n",
    "evens = 0\n",
    "odds = 0\n",
    "for i in (list):\n",
    "    if i % 2 == 0:\n",
    "        evens +=1\n",
    "    else:\n",
    "        odds += 1\n",
    "print(\"the number of even numbers :\", evens)\n",
    "print(\"the number of odd numbers :\", odds)"
   ]
  },
  {
   "cell_type": "code",
   "execution_count": 34,
   "metadata": {
    "tags": []
   },
   "outputs": [
    {
     "output_type": "stream",
     "name": "stdout",
     "text": "\n1\n22\n333\n4444\n55555\n666666\n7777777\n88888888\n999999999\n"
    }
   ],
   "source": [
    "for i in range(0,10):\n",
    "    print(str(i)*i)"
   ]
  },
  {
   "cell_type": "code",
   "execution_count": 38,
   "metadata": {
    "tags": []
   },
   "outputs": [
    {
     "output_type": "stream",
     "name": "stdout",
     "text": "\n    1    \n    22   \n   333   \n   4444  \n  55555  \n  666666 \n 7777777 \n 88888888\n999999999\n"
    }
   ],
   "source": [
    "for i in range (10):\n",
    "    print((str(i)*i).center(9))"
   ]
  },
  {
   "cell_type": "code",
   "execution_count": 44,
   "metadata": {
    "tags": []
   },
   "outputs": [
    {
     "output_type": "stream",
     "name": "stdout",
     "text": "2775\n"
    }
   ],
   "source": [
    "sum = 0\n",
    "for i in range(1,75):\n",
    "    sum += i\n",
    "print(sum)"
   ]
  },
  {
   "cell_type": "code",
   "execution_count": 45,
   "metadata": {
    "tags": []
   },
   "outputs": [
    {
     "output_type": "stream",
     "name": "stdout",
     "text": "2775\n"
    }
   ],
   "source": [
    "sum_num=0\n",
    "for i in range(1, 75):\n",
    "        sum_num += i\n",
    "print(sum_num)"
   ]
  },
  {
   "cell_type": "code",
   "execution_count": null,
   "metadata": {},
   "outputs": [],
   "source": [
    "for i in range(10):\n",
    "    print(“{:>9}{:<9}“.format(str(i)*i,str(i)*i))"
   ]
  }
 ],
 "metadata": {
  "language_info": {
   "codemirror_mode": {
    "name": "ipython",
    "version": 3
   },
   "file_extension": ".py",
   "mimetype": "text/x-python",
   "name": "python",
   "nbconvert_exporter": "python",
   "pygments_lexer": "ipython3",
   "version": "3.7.6-final"
  },
  "orig_nbformat": 2,
  "kernelspec": {
   "name": "python_defaultSpec_1594314062178",
   "display_name": "Python 3.7.6 64-bit ('base': conda)"
  }
 },
 "nbformat": 4,
 "nbformat_minor": 2
}